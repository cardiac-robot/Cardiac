{
 "cells": [
  {
   "cell_type": "code",
   "execution_count": 11,
   "metadata": {
    "collapsed": false,
    "deletable": true,
    "editable": true
   },
   "outputs": [
    {
     "name": "stdout",
     "output_type": "stream",
     "text": [
      "BN{nodes: 2, arcs: 1, domainSize: 6, parameters: 9, compression ratio: -50% }\n"
     ]
    },
    {
     "data": {
      "text/html": [
       "<svg height=\"116pt\" viewBox=\"0.00 0.00 62.00 116.00\" width=\"62pt\" xmlns=\"http://www.w3.org/2000/svg\" xmlns:xlink=\"http://www.w3.org/1999/xlink\">\n",
       "<g class=\"graph\" id=\"graph0\" transform=\"scale(1 1) rotate(0) translate(4 112)\">\n",
       "<title>G</title>\n",
       "<polygon fill=\"white\" points=\"-4,4 -4,-112 58,-112 58,4 -4,4\" stroke=\"none\"/>\n",
       "<!-- A -->\n",
       "<g class=\"node\" id=\"node1\"><title>A</title>\n",
       "<g id=\"a_node1\"><a xlink:title=\"(0) A\">\n",
       "<ellipse cx=\"27\" cy=\"-90\" fill=\"#444444\" rx=\"27\" ry=\"18\" stroke=\"black\"/>\n",
       "<text fill=\"#ffffff\" font-family=\"Times,serif\" font-size=\"14.00\" text-anchor=\"middle\" x=\"27\" y=\"-86.3\">A</text>\n",
       "</a>\n",
       "</g>\n",
       "</g>\n",
       "<!-- B -->\n",
       "<g class=\"node\" id=\"node2\"><title>B</title>\n",
       "<g id=\"a_node2\"><a xlink:title=\"(1) B\">\n",
       "<ellipse cx=\"27\" cy=\"-18\" fill=\"#444444\" rx=\"27\" ry=\"18\" stroke=\"black\"/>\n",
       "<text fill=\"#ffffff\" font-family=\"Times,serif\" font-size=\"14.00\" text-anchor=\"middle\" x=\"27\" y=\"-14.3\">B</text>\n",
       "</a>\n",
       "</g>\n",
       "</g>\n",
       "<!-- A&#45;&gt;B -->\n",
       "<g class=\"edge\" id=\"edge1\"><title>A-&gt;B</title>\n",
       "<g id=\"a_edge1\"><a xlink:title=\"(0, 1) : \">\n",
       "<path d=\"M27,-71.6966C27,-63.9827 27,-54.7125 27,-46.1124\" fill=\"none\" stroke=\"black\"/>\n",
       "<polygon fill=\"black\" points=\"30.5001,-46.1043 27,-36.1043 23.5001,-46.1044 30.5001,-46.1043\" stroke=\"black\"/>\n",
       "</a>\n",
       "</g>\n",
       "</g>\n",
       "</g>\n",
       "</svg>"
      ],
      "text/plain": [
       "<IPython.core.display.HTML object>"
      ]
     },
     "metadata": {},
     "output_type": "display_data"
    },
    {
     "data": {
      "image/png": "[encoded data removed]",
      "text/plain": [
       "<matplotlib.figure.Figure at 0x7f9727209050>"
      ]
     },
     "metadata": {},
     "output_type": "display_data"
    },
    {
     "name": "stdout",
     "output_type": "stream",
     "text": [
      "[ 0.83333333  0.08333333  0.08333333]\n",
      "[ 0.83333333  0.08333333  0.08333333  0.        ]\n"
     ]
    }
   ],
   "source": [
    "%matplotlib inline\n",
    "from pylab import *\n",
    "import matplotlib.pyplot as plt\n",
    "import pyAgrum as gum\n",
    "import pyAgrum.lib.notebook as gnb\n",
    "from scipy.stats import norm,maxwell,truncnorm\n",
    "import numpy as np\n",
    "# we truncate a pdf, so we need to normalize \n",
    "def normalize(rv,vmin,vmax,size):\n",
    "    pdf=rv.pdf(linspace(vmin,vmax,size))\n",
    "    return (pdf/sum(pdf))\n",
    "\n",
    "\n",
    "#nbr of states for quasi continuous variables. You can change the value \n",
    "#but be carefull of the quadratic behaviour of both memory and time complexity\n",
    "#in this example.\n",
    "NB=2 \n",
    "\n",
    "bn=gum.BayesNet(\"Quasi-Continuous\")\n",
    "a=bn.add(gum.LabelizedVariable(\"A\",\"A binary variable\",2))\n",
    "b=bn.add(gum.RangeVariable(\"B\",\"A range variable\",0,NB-1))\n",
    "bn.addArc(a,b)\n",
    "print(bn)\n",
    "gnb.showBN(bn)\n",
    "bn.cpt(a).fillWith([0.4, 0.3]).normalize()\n",
    "gnb.showProba(bn.cpt(a))\n",
    "a_cpt = bn.cpt(a)[:]\n",
    "print a_cpt\n",
    "a_cpt = np.append(a_cpt, [0.0])\n",
    "print a_cpt\n",
    "\n",
    "print float(1)/3\n",
    "bn.erase(a)\n",
    "gnb.showBN(bn)\n",
    "a = bn.add(gum.LabelizedVariable(\"A\",\"A binary variable\",3))\n",
    "bn.addArc(a,b)\n",
    "gnb.showBN(bn)\n",
    "bn.cpt(a)[:] = a_cpt\n",
    "gnb.showProba(bn.cpt(a))\n",
    "sumPdf = 0.4\n",
    "bn.cpt(b)[{'A':0}] = [0,0.4]\n",
    "bn.cpt(b)[{'A':1}] = [0.5,0.4]\n",
    "bn.cpt(b)[{'A':2}] = [0.5,0.9]\n",
    "gnb.showPotential(bn.cpt(b))\n",
    "def tryy(h,m):\n",
    "    return (h)*12+int(float(m)/5)\n",
    "\n",
    "print tryy(10,10)"
   ]
  },
  {
   "cell_type": "code",
   "execution_count": 14,
   "metadata": {
    "collapsed": false,
    "deletable": true,
    "editable": true
   },
   "outputs": [
    {
     "name": "stdout",
     "output_type": "stream",
     "text": [
      "2016\n"
     ]
    },
    {
     "data": {
      "image/png": "[encoded data removed]",
      "text/plain": [
       "<matplotlib.figure.Figure at 0x7f1d5c83add0>"
      ]
     },
     "metadata": {},
     "output_type": "display_data"
    },
    {
     "name": "stdout",
     "output_type": "stream",
     "text": [
      "0.132980760134\n",
      "5.86249847532e-72\n"
     ]
    },
    {
     "data": {
      "text/html": [
       "<svg height=\"116pt\" viewBox=\"0.00 0.00 62.00 116.00\" width=\"62pt\" xmlns=\"http://www.w3.org/2000/svg\" xmlns:xlink=\"http://www.w3.org/1999/xlink\">\n",
       "<g class=\"graph\" id=\"graph0\" transform=\"scale(1 1) rotate(0) translate(4 112)\">\n",
       "<title>G</title>\n",
       "<polygon fill=\"white\" points=\"-4,4 -4,-112 58,-112 58,4 -4,4\" stroke=\"none\"/>\n",
       "<!-- I -->\n",
       "<g class=\"node\" id=\"node1\"><title>I</title>\n",
       "<g id=\"a_node1\"><a xlink:title=\"(0) I\">\n",
       "<ellipse cx=\"27\" cy=\"-18\" fill=\"#444444\" rx=\"27\" ry=\"18\" stroke=\"black\"/>\n",
       "<text fill=\"#ffffff\" font-family=\"Times,serif\" font-size=\"14.00\" text-anchor=\"middle\" x=\"27\" y=\"-14.3\">I</text>\n",
       "</a>\n",
       "</g>\n",
       "</g>\n",
       "<!-- T -->\n",
       "<g class=\"node\" id=\"node2\"><title>T</title>\n",
       "<g id=\"a_node2\"><a xlink:title=\"(1) T\">\n",
       "<ellipse cx=\"27\" cy=\"-90\" fill=\"#444444\" rx=\"27\" ry=\"18\" stroke=\"black\"/>\n",
       "<text fill=\"#ffffff\" font-family=\"Times,serif\" font-size=\"14.00\" text-anchor=\"middle\" x=\"27\" y=\"-86.3\">T</text>\n",
       "</a>\n",
       "</g>\n",
       "</g>\n",
       "<!-- T&#45;&gt;I -->\n",
       "<g class=\"edge\" id=\"edge1\"><title>T-&gt;I</title>\n",
       "<g id=\"a_edge1\"><a xlink:title=\"(1, 0) : \">\n",
       "<path d=\"M27,-71.6966C27,-63.9827 27,-54.7125 27,-46.1124\" fill=\"none\" stroke=\"black\"/>\n",
       "<polygon fill=\"black\" points=\"30.5001,-46.1043 27,-36.1043 23.5001,-46.1044 30.5001,-46.1043\" stroke=\"black\"/>\n",
       "</a>\n",
       "</g>\n",
       "</g>\n",
       "</g>\n",
       "</svg>"
      ],
      "text/plain": [
       "<IPython.core.display.HTML object>"
      ]
     },
     "metadata": {},
     "output_type": "display_data"
    },
    {
     "data": {
      "image/png": "[encoded data removed]",
      "text/plain": [
       "<matplotlib.figure.Figure at 0x7f1d5c30b290>"
      ]
     },
     "metadata": {},
     "output_type": "display_data"
    },
    {
     "data": {
      "image/png": "[encoded data removed]",
      "text/plain": [
       "<matplotlib.figure.Figure at 0x7f1d5160be90>"
      ]
     },
     "metadata": {},
     "output_type": "display_data"
    },
    {
     "data": {
      "image/png": "[encoded data removed]",
      "text/plain": [
       "<matplotlib.figure.Figure at 0x7f1d5cbb3590>"
      ]
     },
     "metadata": {},
     "output_type": "display_data"
    }
   ],
   "source": [
    "%matplotlib inline\n",
    "from pylab import *\n",
    "import matplotlib.pyplot as plt\n",
    "from scipy.stats import norm,maxwell,truncnorm\n",
    "import numpy as np\n",
    "import pyAgrum as gum\n",
    "import pyAgrum.lib.notebook as gnb\n",
    "\n",
    "rv = norm(loc = -1., scale = 1.0)\n",
    "\n",
    "x = linspace(-10, 10, 100)\n",
    "\n",
    "y = rv.pdf(x)\n",
    "\n",
    "varz= truncnorm.var(0, 75, loc=26)\n",
    "\n",
    "numericDayName = 2 #tuesday (the time starts from 00.00 on Monday and ends at Sunday at 23.55)\n",
    "currentTime = \"14:30:17\"\n",
    "currentTime = currentTime.split(\":\")\n",
    "periodMin = 5\n",
    "total = 7*24*60/periodMin\n",
    "print total\n",
    "mean = (int(numericDayName)-1)*24*60/periodMin + int(currentTime[0])*60/periodMin + int(currentTime[1])/periodMin\n",
    "stddev = 15/periodMin # 15 minutes\n",
    "time_curve = truncnorm(0-mean, total-mean,loc=mean,scale=stddev)\n",
    "# print time_curve.pdf(mean)\n",
    "# print time_curve.cdf(mean)\n",
    "z = linspace(0, total, total)\n",
    "plt.xlabel('Time')\n",
    "plt.ylabel('Confidence')\n",
    "plt.plot(time_curve.pdf(z))\n",
    "plt.show()\n",
    "\n",
    "print time_curve.pdf(mean)\n",
    "print time_curve.pdf((int(numericDayName)-1)*24*60/periodMin + int(10)*60/periodMin + int(0)/periodMin)\n",
    "# continuous random variable with truncated values from 0 to 75, with mean at 26\n",
    "# the area of the curve gives the probability and the area sums up to 1\n",
    "# rz = truncnorm(-26, 49,loc=26,scale=7)\n",
    "\n",
    "# print rz.pdf(26)\n",
    "\n",
    "# z = linspace(-10, 100, 100) # for printing the graph\n",
    "\n",
    "# plt.plot(rz.pdf(z))\n",
    "# plt.xlim([-10,100])\n",
    "# print varz\n",
    "# print sum(rz.pdf(z))\n",
    "# print sum(y)\n",
    "#plot the pdfs of these normal distributions \n",
    "#plt.plot(z, rz.pdf(z))\n",
    "r_bn=gum.BayesNet('RecogniserBN')\n",
    "i_labels = [\"Unknown\", \"Bahar\"]\n",
    " # Identity node\n",
    "identity = gum.LabelizedVariable(\"I\",\"Identity\",0)\n",
    "\n",
    "for counter in range(0, len(i_labels)):\n",
    "    identity.addLabel(i_labels[counter])       \n",
    "I = r_bn.add(identity)\n",
    "\n",
    "period = 5 # time is checked every 5 minutes (instead of 1 minute to decrease the time for calculating BN)\n",
    "stddev_time = 15/period\n",
    "num_time_slots = 7*24*60/period # 7(days)*24(hours)*60(minutes)/period\n",
    "time_of_day = gum.RangeVariable(\"T\",\"Time\",0,num_time_slots-1)\n",
    "T = r_bn.add(time_of_day)\n",
    "\n",
    "r_bn.addArc(T,I)\n",
    "gnb.showBN(r_bn)\n",
    "\n",
    "# currentTime1 = \"15:34:17\"\n",
    "# currentTime1 = currentTime1.split(\":\")\n",
    "# time_i = (int(numericDayName)-1)*24*60/period + int(currentTime1[0])*60/period + int(currentTime1[1])/period\n",
    "# time_curve = truncnorm(0-time_i, num_time_slots-time_i,loc=time_i,scale=stddev_time)\n",
    "# for time_i in range(0, num_time_slots):\n",
    "#     r_bn.cpt(T)[time_i] = time_curve.pdf(time_i)\n",
    "r_bn.cpt(T).fillWith(1).normalize()\n",
    "times_people = [[\"00:00:00\",2],[\"10:00:00\",2]]\n",
    "\n",
    "for time_i in range(0, num_time_slots):\n",
    "    time_curve = truncnorm(0-time_i, num_time_slots-time_i,loc=time_i,scale=stddev_time)\n",
    "    time_ps = []\n",
    "    for counter in range(0, len(i_labels)):\n",
    "        tp = times_people[counter][0].split(\":\")\n",
    "        time_p = (int(times_people[counter][1])-1)*24*60/period + int(tp[0])*60/period + int(tp[1])/period\n",
    "        time_ps.append(time_curve.pdf(time_p))\n",
    "    r_bn.cpt(I)[{'T':time_i}] = time_ps\n",
    "ie=gum.LazyPropagation(r_bn)\n",
    "ie.makeInference()\n",
    "gnb.showProba(ie.posterior(I))\n",
    "\n",
    "time_i = (int(numericDayName)-1)*24*60/period + int(currentTime[0])*60/period + int(currentTime[1])/period\n",
    "time_curve = truncnorm(0-time_i, num_time_slots-time_i,loc=time_i,scale=stddev_time)\n",
    "time_curve_pdf = []\n",
    "for time_j in range(0, num_time_slots):\n",
    "    time_curve_pdf.append(time_curve.pdf(time_j))\n",
    "    r_bn.cpt(T)[time_j]= time_curve.pdf(time_j)\n",
    "    \n",
    "time_curve2 = norm(loc=time_i,scale=stddev_time)\n",
    "sumPdf = 0\n",
    "time_curve_pdf2 = []\n",
    "for time_j in range(0, num_time_slots):\n",
    "    time_curve_pdf2.append(time_curve2.pdf(time_j))\n",
    "    sumPdf += time_curve2.pdf(time_j)\n",
    "\n",
    "time_curve_pdf2 = [x / sumPdf for x in time_curve_pdf]\n",
    "timesss = [x for x in range(0,num_time_slots)] \n",
    "plt.plot(timesss, time_curve_pdf2)\n",
    "plt.show()\n",
    "r_bn.cpt(T)[:] = time_curve_pdf2\n",
    "ie=gum.LazyPropagation(r_bn)\n",
    "ie.setEvidence({'T':time_i})\n",
    "ie.makeInference()\n",
    "gnb.showProba(ie.posterior(I))\n",
    "\n",
    "for time_j in range(0, num_time_slots):\n",
    "    if time_curve_pdf2[time_j] != time_curve_pdf[time_j]:\n",
    "        print time_curve_pdf2[time_j]\n",
    "        print time_curve_pdf[time_j]\n",
    "        print \".........\""
   ]
  },
  {
   "cell_type": "code",
   "execution_count": 5,
   "metadata": {
    "collapsed": false,
    "deletable": true,
    "editable": true
   },
   "outputs": [
    {
     "name": "stdout",
     "output_type": "stream",
     "text": [
      "0.5\n",
      "[[[['Bahar', 0.5], ['Jim', 0.2]], ['Female', 0.76], [26, 0.9], 1.75]]\n",
      "['hello', 'hi', 'good morning']\n",
      "[['Bahar', 'Female', 26, 1.75], [[['Bahar', 0.5], ['Jim', 0.2]], ['Female', 0.76], [26, 0.9], 1.75]]\n",
      "Bahar\n",
      "yes\n",
      "2.4\n",
      "oleeeeey\n",
      "False\n"
     ]
    }
   ],
   "source": [
    "faceWithConfidence = [[\"Bahar\", 0.5], [\"Jim\",0.2]]\n",
    "genderWithConfidence = [\"Female\",0.76]\n",
    "ageWithConfidence = [26, 0.9]\n",
    "height = 1.75\n",
    "recog_results = [[faceWithConfidence, genderWithConfidence, ageWithConfidence, height]]\n",
    "print recog_results[0][0][0][1]\n",
    "print recog_results\n",
    "un = [\"hello\",\"hi\"]\n",
    "un.append(\"good morning\")\n",
    "print un\n",
    "person = [\"Bahar\", \"Female\", 26, 1.75]\n",
    "recog_results = [person, recog_results[0]]\n",
    "print recog_results\n",
    "print recog_results[1][0][0][0]\n",
    "if recog_results[1][0][0][0] != person[0]:\n",
    "    print \"no\"\n",
    "else:\n",
    "    print \"yes\"\n",
    "robot_version = \"2.4.3\"\n",
    "print robot_version[:3]\n",
    "if robot_version[:3] != \"2.1\":\n",
    "    print \"oleeeeey\"\n",
    "    \n",
    "imageBool = 0\n",
    "if imageBool:\n",
    "    print \"True\"\n",
    "else:\n",
    "    print \"False\""
   ]
  },
  {
   "cell_type": "code",
   "execution_count": 5,
   "metadata": {
    "collapsed": false,
    "deletable": true,
    "editable": true
   },
   "outputs": [
    {
     "data": {
      "text/html": [
       "<svg height=\"116pt\" viewBox=\"0.00 0.00 134.00 116.00\" width=\"134pt\" xmlns=\"http://www.w3.org/2000/svg\" xmlns:xlink=\"http://www.w3.org/1999/xlink\">\n",
       "<g class=\"graph\" id=\"graph0\" transform=\"scale(1 1) rotate(0) translate(4 112)\">\n",
       "<title>G</title>\n",
       "<polygon fill=\"white\" points=\"-4,4 -4,-112 130,-112 130,4 -4,4\" stroke=\"none\"/>\n",
       "<!-- I -->\n",
       "<g class=\"node\" id=\"node1\"><title>I</title>\n",
       "<g id=\"a_node1\"><a xlink:title=\"(0) I\">\n",
       "<ellipse cx=\"63\" cy=\"-18\" fill=\"#444444\" rx=\"27\" ry=\"18\" stroke=\"black\"/>\n",
       "<text fill=\"#ffffff\" font-family=\"Times,serif\" font-size=\"14.00\" text-anchor=\"middle\" x=\"63\" y=\"-14.3\">I</text>\n",
       "</a>\n",
       "</g>\n",
       "</g>\n",
       "<!-- F -->\n",
       "<g class=\"node\" id=\"node2\"><title>F</title>\n",
       "<g id=\"a_node2\"><a xlink:title=\"(1) F\">\n",
       "<ellipse cx=\"27\" cy=\"-90\" fill=\"#444444\" rx=\"27\" ry=\"18\" stroke=\"black\"/>\n",
       "<text fill=\"#ffffff\" font-family=\"Times,serif\" font-size=\"14.00\" text-anchor=\"middle\" x=\"27\" y=\"-86.3\">F</text>\n",
       "</a>\n",
       "</g>\n",
       "</g>\n",
       "<!-- F&#45;&gt;I -->\n",
       "<g class=\"edge\" id=\"edge1\"><title>F-&gt;I</title>\n",
       "<g id=\"a_edge1\"><a xlink:title=\"(1, 0) : \">\n",
       "<path d=\"M35.3496,-72.7646C39.7115,-64.2831 45.1469,-53.7144 50.0413,-44.1974\" fill=\"none\" stroke=\"black\"/>\n",
       "<polygon fill=\"black\" points=\"53.2346,-45.6409 54.6957,-35.1473 47.0096,-42.4395 53.2346,-45.6409\" stroke=\"black\"/>\n",
       "</a>\n",
       "</g>\n",
       "</g>\n",
       "<!-- G -->\n",
       "<g class=\"node\" id=\"node3\"><title>G</title>\n",
       "<g id=\"a_node3\"><a xlink:title=\"(2) G\">\n",
       "<ellipse cx=\"99\" cy=\"-90\" fill=\"#444444\" rx=\"27\" ry=\"18\" stroke=\"black\"/>\n",
       "<text fill=\"#ffffff\" font-family=\"Times,serif\" font-size=\"14.00\" text-anchor=\"middle\" x=\"99\" y=\"-86.3\">G</text>\n",
       "</a>\n",
       "</g>\n",
       "</g>\n",
       "<!-- G&#45;&gt;I -->\n",
       "<g class=\"edge\" id=\"edge2\"><title>G-&gt;I</title>\n",
       "<g id=\"a_edge2\"><a xlink:title=\"(2, 0) : \">\n",
       "<path d=\"M90.6504,-72.7646C86.2885,-64.2831 80.8531,-53.7144 75.9587,-44.1974\" fill=\"none\" stroke=\"black\"/>\n",
       "<polygon fill=\"black\" points=\"78.9904,-42.4395 71.3043,-35.1473 72.7654,-45.6409 78.9904,-42.4395\" stroke=\"black\"/>\n",
       "</a>\n",
       "</g>\n",
       "</g>\n",
       "</g>\n",
       "</svg>"
      ],
      "text/plain": [
       "<IPython.core.display.HTML object>"
      ]
     },
     "metadata": {},
     "output_type": "display_data"
    },
    {
     "name": "stdout",
     "output_type": "stream",
     "text": [
      "BN{nodes: 3, arcs: 2, domainSize: 8, parameters: 12, compression ratio: -50% }\n"
     ]
    },
    {
     "data": {
      "image/png": "[encoded data removed]"
     },
     "metadata": {},
     "output_type": "display_data"
    }
   ],
   "source": [
    "import pyAgrum as gum\n",
    "import pyAgrum.lib.notebook as gnb\n",
    "%matplotlib inline\n",
    "from pylab import *\n",
    "import matplotlib.pyplot as plt\n",
    "# bn=gum.loadBN(\"asia2.bif\")\n",
    "# gnb.showInference(bn)\n",
    "# learner=gum.BNLearner('sample_asia.csv',bn)\n",
    "# bn2=learner.learnParameters(bn)\n",
    "# gnb.showInference(bn2)\n",
    "\n",
    "bn3=gum.BayesNet(\"Deneme\")\n",
    "\n",
    "i_labels = [\"unknown\",\"bahar\"]\n",
    "# Identity node\n",
    "identity = gum.LabelizedVariable(\"I\",\"Identity\",0)\n",
    "        \n",
    "for counter in range(0, len(i_labels)):\n",
    "    identity.addLabel(i_labels[counter])\n",
    "I = bn3.add(identity)\n",
    "# Face node\n",
    "face = gum.LabelizedVariable(\"F\",\"Face\",0)\n",
    "for counter in range(0, len(i_labels)):\n",
    "    face.addLabel(i_labels[counter]) \n",
    "F = bn3.add(face)\n",
    "bn3.addArc(F,I)\n",
    "\n",
    "gender = gum.LabelizedVariable(\"G\",\"Gender\",0)\n",
    "g_labels = [\"Female\", \"Male\"]\n",
    "for counter in range(0, len(g_labels)):\n",
    "    gender.addLabel(g_labels[counter]) \n",
    "G = bn3.add(gender)\n",
    "bn3.addArc(G,I)\n",
    "\n",
    "gnb.showBN(bn3)\n",
    "print bn3\n",
    "bn3.cpt(F)[:]=1\n",
    "bn3.cpt(G)[:]=1\n",
    "bn3.cpt(I)[{'F':0}]=1\n",
    "bn3.cpt(I)[{'F':1}]=1\n",
    "bn3.cpt(I)[{'G':0}]=1\n",
    "bn3.cpt(I)[{'G':1}]=1\n",
    "gnb.showInference(bn3)"
   ]
  },
  {
   "cell_type": "code",
   "execution_count": 28,
   "metadata": {
    "collapsed": false,
    "deletable": true,
    "editable": true
   },
   "outputs": [
    {
     "name": "stdout",
     "output_type": "stream",
     "text": [
      "0.953469700893\n",
      "[ 0.99736529]\n",
      "[  1.48071349e-11]\n"
     ]
    },
    {
     "data": {
      "image/png": "[encoded data removed]",
      "text/plain": [
       "<matplotlib.figure.Figure at 0x7f1d5c1cd190>"
      ]
     },
     "metadata": {},
     "output_type": "display_data"
    }
   ],
   "source": [
    "##\n",
    "import numpy as np\n",
    "from scipy.special import factorial\n",
    "from scipy.optimize import fsolve\n",
    "import scipy.optimize\n",
    "from scipy.stats import binom\n",
    "import matplotlib.pyplot as plt\n",
    "from scipy.stats import norm\n",
    "import time\n",
    "\n",
    "mean=26;maxRange=76; x =np.arange(0,75); confidence=0.4;\n",
    "\n",
    "z= norm.ppf(confidence + (1-confidence)/2.0)\n",
    "siga = 0.5/z\n",
    "print siga\n",
    "\n",
    "##\n",
    "\n",
    "def normalStuff(std, mean, rangeVect, confidence):\n",
    "    std=np.abs(std)\n",
    "    y=norm.pdf(rangeVect,mean,std)\n",
    "    y=y/sum(y)\n",
    "    #find the index of the mean \n",
    "    idx=rangeVect[np.where(rangeVect==mean)]\n",
    "    err=(y[idx]-confidence)**2\n",
    "    return err;\n",
    "\n",
    "result=scipy.optimize.minimize(normalStuff, 2, args=(mean, x, confidence))\n",
    "\n",
    "##\n",
    "\n",
    "std=np.abs(result.x)\n",
    "print std \n",
    "print(normalStuff(std, mean, x, confidence))\n",
    "y=norm.pdf(x,mean,std)\n",
    "y=y/sum(y)\n",
    "plt.xlabel('Height')\n",
    "plt.ylabel('Confidence')\n",
    "plt.plot(x,y,'.')\n",
    "plt.show()\n"
   ]
  },
  {
   "cell_type": "code",
   "execution_count": 27,
   "metadata": {
    "collapsed": false,
    "deletable": true,
    "editable": true,
    "scrolled": true
   },
   "outputs": [
    {
     "data": {
      "image/png": "[encoded data removed]",
      "text/plain": [
       "<matplotlib.figure.Figure at 0x7f1d5c7516d0>"
      ]
     },
     "metadata": {},
     "output_type": "display_data"
    },
    {
     "data": {
      "text/html": [
       "<svg height=\"79pt\" viewBox=\"0.00 0.00 288.00 79.17\" width=\"288pt\" xmlns=\"http://www.w3.org/2000/svg\" xmlns:xlink=\"http://www.w3.org/1999/xlink\">\n",
       "<g class=\"graph\" id=\"graph0\" transform=\"scale(0.682464 0.682464) rotate(0) translate(4 112)\">\n",
       "<title>G</title>\n",
       "<polygon fill=\"white\" points=\"-4,4 -4,-112 418,-112 418,4 -4,4\" stroke=\"none\"/>\n",
       "<!-- I -->\n",
       "<g class=\"node\" id=\"node1\"><title>I</title>\n",
       "<g id=\"a_node1\"><a xlink:title=\"(0) I\">\n",
       "<ellipse cx=\"207\" cy=\"-18\" fill=\"#444444\" rx=\"27\" ry=\"18\" stroke=\"black\"/>\n",
       "<text fill=\"#ffffff\" font-family=\"Times,serif\" font-size=\"14.00\" text-anchor=\"middle\" x=\"207\" y=\"-14.3\">I</text>\n",
       "</a>\n",
       "</g>\n",
       "</g>\n",
       "<!-- F -->\n",
       "<g class=\"node\" id=\"node2\"><title>F</title>\n",
       "<g id=\"a_node2\"><a xlink:title=\"(1) F\">\n",
       "<ellipse cx=\"27\" cy=\"-90\" fill=\"#444444\" rx=\"27\" ry=\"18\" stroke=\"black\"/>\n",
       "<text fill=\"#ffffff\" font-family=\"Times,serif\" font-size=\"14.00\" text-anchor=\"middle\" x=\"27\" y=\"-86.3\">F</text>\n",
       "</a>\n",
       "</g>\n",
       "</g>\n",
       "<!-- F&#45;&gt;I -->\n",
       "<g class=\"edge\" id=\"edge2\"><title>F-&gt;I</title>\n",
       "<g id=\"a_edge2\"><a xlink:title=\"(1, 0) : \">\n",
       "<path d=\"M48.1801,-78.6171C53.0145,-76.354 58.1554,-74.0307 63,-72 100.361,-56.3392 144.148,-40.5823 173.543,-30.3697\" fill=\"none\" stroke=\"black\"/>\n",
       "<polygon fill=\"black\" points=\"174.997,-33.5706 183.306,-26.9978 172.711,-26.9541 174.997,-33.5706\" stroke=\"black\"/>\n",
       "</a>\n",
       "</g>\n",
       "</g>\n",
       "<!-- G -->\n",
       "<g class=\"node\" id=\"node3\"><title>G</title>\n",
       "<g id=\"a_node3\"><a xlink:title=\"(2) G\">\n",
       "<ellipse cx=\"99\" cy=\"-90\" fill=\"#444444\" rx=\"27\" ry=\"18\" stroke=\"black\"/>\n",
       "<text fill=\"#ffffff\" font-family=\"Times,serif\" font-size=\"14.00\" text-anchor=\"middle\" x=\"99\" y=\"-86.3\">G</text>\n",
       "</a>\n",
       "</g>\n",
       "</g>\n",
       "<!-- G&#45;&gt;I -->\n",
       "<g class=\"edge\" id=\"edge5\"><title>G-&gt;I</title>\n",
       "<g id=\"a_edge5\"><a xlink:title=\"(2, 0) : \">\n",
       "<path d=\"M117.812,-76.8069C135.002,-65.6653 160.618,-49.0622 179.993,-36.5043\" fill=\"none\" stroke=\"black\"/>\n",
       "<polygon fill=\"black\" points=\"181.916,-39.4294 188.403,-31.0533 178.108,-33.5553 181.916,-39.4294\" stroke=\"black\"/>\n",
       "</a>\n",
       "</g>\n",
       "</g>\n",
       "<!-- A -->\n",
       "<g class=\"node\" id=\"node4\"><title>A</title>\n",
       "<g id=\"a_node4\"><a xlink:title=\"(3) A\">\n",
       "<ellipse cx=\"171\" cy=\"-90\" fill=\"#444444\" rx=\"27\" ry=\"18\" stroke=\"black\"/>\n",
       "<text fill=\"#ffffff\" font-family=\"Times,serif\" font-size=\"14.00\" text-anchor=\"middle\" x=\"171\" y=\"-86.3\">A</text>\n",
       "</a>\n",
       "</g>\n",
       "</g>\n",
       "<!-- A&#45;&gt;I -->\n",
       "<g class=\"edge\" id=\"edge1\"><title>A-&gt;I</title>\n",
       "<g id=\"a_edge1\"><a xlink:title=\"(3, 0) : \">\n",
       "<path d=\"M179.35,-72.7646C183.712,-64.2831 189.147,-53.7144 194.041,-44.1974\" fill=\"none\" stroke=\"black\"/>\n",
       "<polygon fill=\"black\" points=\"197.235,-45.6409 198.696,-35.1473 191.01,-42.4395 197.235,-45.6409\" stroke=\"black\"/>\n",
       "</a>\n",
       "</g>\n",
       "</g>\n",
       "<!-- H -->\n",
       "<g class=\"node\" id=\"node5\"><title>H</title>\n",
       "<g id=\"a_node5\"><a xlink:title=\"(4) H\">\n",
       "<ellipse cx=\"243\" cy=\"-90\" fill=\"#444444\" rx=\"27\" ry=\"18\" stroke=\"black\"/>\n",
       "<text fill=\"#ffffff\" font-family=\"Times,serif\" font-size=\"14.00\" text-anchor=\"middle\" x=\"243\" y=\"-86.3\">H</text>\n",
       "</a>\n",
       "</g>\n",
       "</g>\n",
       "<!-- H&#45;&gt;I -->\n",
       "<g class=\"edge\" id=\"edge4\"><title>H-&gt;I</title>\n",
       "<g id=\"a_edge4\"><a xlink:title=\"(4, 0) : \">\n",
       "<path d=\"M234.65,-72.7646C230.288,-64.2831 224.853,-53.7144 219.959,-44.1974\" fill=\"none\" stroke=\"black\"/>\n",
       "<polygon fill=\"black\" points=\"222.99,-42.4395 215.304,-35.1473 216.765,-45.6409 222.99,-42.4395\" stroke=\"black\"/>\n",
       "</a>\n",
       "</g>\n",
       "</g>\n",
       "<!-- L -->\n",
       "<g class=\"node\" id=\"node6\"><title>L</title>\n",
       "<g id=\"a_node6\"><a xlink:title=\"(5) L\">\n",
       "<ellipse cx=\"315\" cy=\"-90\" fill=\"#444444\" rx=\"27\" ry=\"18\" stroke=\"black\"/>\n",
       "<text fill=\"#ffffff\" font-family=\"Times,serif\" font-size=\"14.00\" text-anchor=\"middle\" x=\"315\" y=\"-86.3\">L</text>\n",
       "</a>\n",
       "</g>\n",
       "</g>\n",
       "<!-- L&#45;&gt;I -->\n",
       "<g class=\"edge\" id=\"edge6\"><title>L-&gt;I</title>\n",
       "<g id=\"a_edge6\"><a xlink:title=\"(5, 0) : \">\n",
       "<path d=\"M296.188,-76.8069C278.998,-65.6653 253.382,-49.0622 234.007,-36.5043\" fill=\"none\" stroke=\"black\"/>\n",
       "<polygon fill=\"black\" points=\"235.892,-33.5553 225.597,-31.0533 232.084,-39.4294 235.892,-33.5553\" stroke=\"black\"/>\n",
       "</a>\n",
       "</g>\n",
       "</g>\n",
       "<!-- T -->\n",
       "<g class=\"node\" id=\"node7\"><title>T</title>\n",
       "<g id=\"a_node7\"><a xlink:title=\"(6) T\">\n",
       "<ellipse cx=\"387\" cy=\"-90\" fill=\"#444444\" rx=\"27\" ry=\"18\" stroke=\"black\"/>\n",
       "<text fill=\"#ffffff\" font-family=\"Times,serif\" font-size=\"14.00\" text-anchor=\"middle\" x=\"387\" y=\"-86.3\">T</text>\n",
       "</a>\n",
       "</g>\n",
       "</g>\n",
       "<!-- T&#45;&gt;I -->\n",
       "<g class=\"edge\" id=\"edge3\"><title>T-&gt;I</title>\n",
       "<g id=\"a_edge3\"><a xlink:title=\"(6, 0) : \">\n",
       "<path d=\"M365.82,-78.6171C360.986,-76.354 355.845,-74.0307 351,-72 313.639,-56.3392 269.852,-40.5823 240.457,-30.3697\" fill=\"none\" stroke=\"black\"/>\n",
       "<polygon fill=\"black\" points=\"241.289,-26.9541 230.694,-26.9978 239.003,-33.5706 241.289,-26.9541\" stroke=\"black\"/>\n",
       "</a>\n",
       "</g>\n",
       "</g>\n",
       "</g>\n",
       "</svg>"
      ],
      "text/plain": [
       "<IPython.core.display.HTML object>"
      ]
     },
     "metadata": {},
     "output_type": "display_data"
    },
    {
     "data": {
      "image/png": "[encoded data removed]",
      "text/plain": [
       "<matplotlib.figure.Figure at 0x7f1d5c694c90>"
      ]
     },
     "metadata": {},
     "output_type": "display_data"
    },
    {
     "data": {
      "image/png": "[encoded data removed]",
      "text/plain": [
       "<matplotlib.figure.Figure at 0x7f1d5c694e50>"
      ]
     },
     "metadata": {},
     "output_type": "display_data"
    },
    {
     "data": {
      "image/png": "[encoded data removed]",
      "text/plain": [
       "<matplotlib.figure.Figure at 0x7f1d5157e990>"
      ]
     },
     "metadata": {},
     "output_type": "display_data"
    }
   ],
   "source": [
    "#%matplotlib inline\n",
    "from pylab import *\n",
    "import matplotlib.pyplot as plt\n",
    "import pyAgrum as gum\n",
    "import pyAgrum.lib.notebook as gnb\n",
    "from scipy.stats import norm,maxwell,truncnorm\n",
    "import numpy as np\n",
    "bn=gum.BayesNet(\"Recognition\")\n",
    "\n",
    "i_labels = [\"Bahar\", \"Fotis\", \"Mina\", \"Emmanuel\", \"Debora\", \"Severin\"]\n",
    "\n",
    "\n",
    "# Identity node\n",
    "identity = gum.LabelizedVariable(\"I\",\"Identity\",0)\n",
    "        \n",
    "for counter in range(0, len(i_labels)):\n",
    "    identity.addLabel(i_labels[counter])       \n",
    "I = bn.add(identity)\n",
    "        \n",
    "# Face node\n",
    "face = gum.LabelizedVariable(\"F\",\"Face\",0)\n",
    "for counter in range(0, len(i_labels)):\n",
    "    face.addLabel(i_labels[counter]) \n",
    "F = bn.add(face)\n",
    "\n",
    "# Gender node\n",
    "gender = gum.LabelizedVariable(\"G\",\"Gender\",0)\n",
    "g_labels = [\"Female\", \"Male\"]\n",
    "for counter in range(0, len(g_labels)):\n",
    "    gender.addLabel(g_labels[counter])\n",
    "G = bn.add(gender)\n",
    "\n",
    "# Age node\n",
    "age_min = 0\n",
    "age_max = 75\n",
    "age = gum.RangeVariable(\"A\",\"Age\",age_min,age_max)\n",
    "A = bn.add(age)\n",
    "\n",
    "# Height node\n",
    "height_min = 50\n",
    "height_max = 240\n",
    "height = gum.RangeVariable(\"H\",\"Height\",height_min,height_max)\n",
    "H = bn.add(height)\n",
    "\n",
    "# Location node\n",
    "l_labels = [\"Kitchen\", \"Living room\", \"Office\", \"Garden\"]\n",
    "location = gum.LabelizedVariable(\"L\",\"Location\",0)\n",
    "for counter in range(0, len(l_labels)):\n",
    "    location.addLabel(l_labels[counter])\n",
    "L = bn.add(location)\n",
    "\n",
    "# Time node\n",
    "num_time_slots = 42 # 7(days)*6(timeslots)\n",
    "time_of_day = gum.RangeVariable(\"T\",\"Time\",0,num_time_slots-1)\n",
    "T = bn.add(time_of_day)\n",
    "\n",
    "bn.cpt(I).fillWith([0.75,0.1,0.15,0.05,0.01,0.02]).normalize()\n",
    "gnb.showProba(bn.cpt(I))\n",
    "\n",
    "bn.addArc(F,I)\n",
    "bn.addArc(G,I)\n",
    "bn.addArc(A,I)\n",
    "bn.addArc(H,I)\n",
    "bn.addArc(L,I)\n",
    "# bn.addArc(T,L)\n",
    "bn.addArc(T,I)\n",
    "\n",
    "gnb.showBN(bn)\n",
    "\n",
    "bn.cpt(F).fillWith([0.592,0.202,0.175,0.174,0.136,0.097]).normalize()\n",
    "gnb.getProba(bn.cpt(F))\n",
    "bn.cpt(G).fillWith([0.68,0.32]).normalize()\n",
    "gnb.showProba(bn.cpt(G))\n",
    "\n",
    "bn.cpt(L).fillWith([0.1,0.1,0.85,0.2]).normalize()\n",
    "gnb.showProba(bn.cpt(L))\n",
    "# bn.cpt(A).fillWith(1).normalize()\n",
    "# bn.cpt(H).fillWith(1).normalize()"
   ]
  }
 ],
 "metadata": {
  "kernelspec": {
   "display_name": "Python 2",
   "language": "python",
   "name": "python2"
  },
  "language_info": {
   "codemirror_mode": {
    "name": "ipython",
    "version": 2
   },
   "file_extension": ".py",
   "mimetype": "text/x-python",
   "name": "python",
   "nbconvert_exporter": "python",
   "pygments_lexer": "ipython2",
   "version": "2.7.12"
  }
 },
 "nbformat": 4,
 "nbformat_minor": 2
}
