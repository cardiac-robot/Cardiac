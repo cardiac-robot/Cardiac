{
 "cells": [
  {
   "cell_type": "code",
   "execution_count": 116,
   "metadata": {},
   "outputs": [
    {
     "name": "stdout",
     "output_type": "stream",
     "text": [
      "{'date': '2018-6-20', 'sensors': [{'Heartrate': '71', 'Steplenght': '0.5', 'Timestamp': '2018-06-20 09:57:28.280671', 'Speed': '4.1', 'Cadence': '0.8', 'Inclination': '1.5'}, {'Heartrate': '95', 'Steplenght': '0.5', 'Timestamp': '2018-06-20 09:57:29.282109', 'Speed': '6.1', 'Cadence': '0.8', 'Inclination': '3.5'}, {'Heartrate': '89', 'Steplenght': '0.5', 'Timestamp': '2018-06-20 09:57:30.283335', 'Speed': '4.1', 'Cadence': '0.8', 'Inclination': '3.5'}, {'Heartrate': '96', 'Steplenght': '0.5', 'Timestamp': '2018-06-20 09:57:31.284564', 'Speed': '5.1', 'Cadence': '0.8', 'Inclination': '3.5'}], 'average': [], 'events': [{'Type': 'BloodPressure', 'Cause': 'initial', 'Value': \"{'systolic': 90, 'diastolic': 60}\", 'Timestamp': '2018-06-20 09:57:25.960714'}, {'Type': 'StartRecording', 'Cause': 'None', 'Value': 'None', 'Timestamp': '2018-06-20 09:57:28.255956'}, {'Type': 'Cooldown', 'Cause': 'None', 'Value': 'None', 'Timestamp': '2018-06-20 09:57:30.060585'}, {'Type': 'EndRecording', 'Cause': 'None', 'Value': 'None', 'Timestamp': '2018-06-20 09:57:31.531880'}, {'Type': 'BloodPressure', 'Cause': 'final', 'Value': \"{'systolic': 90, 'diastolic': 60}\", 'Timestamp': '2018-06-20 09:57:34.859117'}, {'Type': 'Questions', 'Cause': 'None', 'Value': \"{'satisfaction': 0, 'motivation': 3}\", 'Timestamp': '2018-06-20 09:57:36.897052'}]}\n"
     ]
    }
   ],
   "source": [
    "import os\n",
    "path = \"/home/jonathan/github/Cardiac/db/data/\"\n",
    "user = \"1031137228\"\n",
    "sessions = next(os.walk(path + user))[1]\n",
    "\n",
    "session_dict = {\"events\": [], \"average\":[]}\n",
    "\n",
    "dates = sessions\n",
    "\n",
    "if sessions:\n",
    "    for s in sessions:\n",
    "        session_sensor_list = []\n",
    "        session_event_list = []\n",
    "        #print s\n",
    "        string = path + user + \"/\" +str(s)\n",
    "        \n",
    "        sensor_file = open(string + \"/Sensors.csv\",\"r\")\n",
    "        se = sensor_file.readlines()[1:]\n",
    "        se_dict = {\"Heartrate\":\"\",\"Speed\":\"\",\"Cadence\":\"\",\"Steplenght\":\"\",\"Inclination\":\"\",\"Timestamp\":\"\"}\n",
    "        l = 0\n",
    "        for l in enumerate(se):\n",
    "            d = se[l[0]].strip().split(\";\")\n",
    "\n",
    "            se_dict['Heartrate'] = d[0]\n",
    "            se_dict['Speed'] = d[1]\n",
    "            se_dict['Cadence'] = d[2]\n",
    "            se_dict['Steplenght'] = d[3]\n",
    "            se_dict['Inclination'] = d[4]\n",
    "            se_dict['Timestamp'] = d[5]\n",
    "            session_sensor_list.append(dict(se_dict)) \n",
    "        \n",
    "        event_file = open(string + \"/Events.csv\", \"r\")\n",
    "        ev = event_file.readlines()[1:]\n",
    "        ev_dict = {\"Type\":\"\",\"Cause\":\"\",\"Value\":\"\",\"Timestamp\":\"\"}\n",
    "        for l in enumerate(ev):\n",
    "            e = ev[l[0]].strip().split(\";\")\n",
    "            \n",
    "            ev_dict['Type'] = e[0]\n",
    "            ev_dict['Cause'] = e[1]\n",
    "            ev_dict['Value'] = e[2]\n",
    "            ev_dict['Timestamp'] = e[3]\n",
    "            session_event_list.append(dict(ev_dict))\n",
    "            \n",
    "        #print session_sensor_list\n",
    "        #print session_event_list\n",
    "        session_dict['date'] = s\n",
    "    session_dict['events'] = session_event_list\n",
    "    session_dict['sensors']= session_sensor_list\n",
    "    \n",
    "else:\n",
    "    print \"0\"\n",
    "    #return 0\n",
    "    \n",
    "print session_dict\n"
   ]
  },
  {
   "cell_type": "code",
   "execution_count": 75,
   "metadata": {},
   "outputs": [
    {
     "data": {
      "text/plain": [
       "['89', '4.1', '0.8', '0.5', '3.5', '2018-06-20 09:57:30.283335']"
      ]
     },
     "execution_count": 75,
     "metadata": {},
     "output_type": "execute_result"
    }
   ],
   "source": [
    "se[1:][1].strip().split(\";\")"
   ]
  },
  {
   "cell_type": "code",
   "execution_count": 50,
   "metadata": {},
   "outputs": [
    {
     "data": {
      "text/plain": [
       "'81;6.1;0.8;0.5;1.5;2018-06-05 10:42:37.442869'"
      ]
     },
     "execution_count": 50,
     "metadata": {},
     "output_type": "execute_result"
    }
   ],
   "source": [
    "se[1].strip()"
   ]
  },
  {
   "cell_type": "code",
   "execution_count": 54,
   "metadata": {
    "collapsed": true
   },
   "outputs": [],
   "source": [
    "se[2] = \"w\""
   ]
  },
  {
   "cell_type": "code",
   "execution_count": 79,
   "metadata": {},
   "outputs": [
    {
     "data": {
      "text/plain": [
       "[{'Cause': 'None',\n",
       "  'Timestamp': '2018-06-20 09:57:36.897052',\n",
       "  'Type': 'Questions',\n",
       "  'Value': \"{'satisfaction': 0, 'motivation': 3}\"},\n",
       " {'Cause': 'None',\n",
       "  'Timestamp': '2018-06-20 09:57:36.897052',\n",
       "  'Type': 'Questions',\n",
       "  'Value': \"{'satisfaction': 0, 'motivation': 3}\"},\n",
       " {'Cause': 'None',\n",
       "  'Timestamp': '2018-06-20 09:57:36.897052',\n",
       "  'Type': 'Questions',\n",
       "  'Value': \"{'satisfaction': 0, 'motivation': 3}\"},\n",
       " {'Cause': 'None',\n",
       "  'Timestamp': '2018-06-20 09:57:36.897052',\n",
       "  'Type': 'Questions',\n",
       "  'Value': \"{'satisfaction': 0, 'motivation': 3}\"},\n",
       " {'Cause': 'None',\n",
       "  'Timestamp': '2018-06-20 09:57:36.897052',\n",
       "  'Type': 'Questions',\n",
       "  'Value': \"{'satisfaction': 0, 'motivation': 3}\"},\n",
       " {'Cause': 'None',\n",
       "  'Timestamp': '2018-06-20 09:57:36.897052',\n",
       "  'Type': 'Questions',\n",
       "  'Value': \"{'satisfaction': 0, 'motivation': 3}\"}]"
      ]
     },
     "execution_count": 79,
     "metadata": {},
     "output_type": "execute_result"
    }
   ],
   "source": [
    "session_event_list"
   ]
  },
  {
   "cell_type": "code",
   "execution_count": 80,
   "metadata": {},
   "outputs": [
    {
     "data": {
      "text/plain": [
       "[{'Cadence': '0.8',\n",
       "  'Heartrate': '96',\n",
       "  'Inclination': '3.5',\n",
       "  'Speed': '5.1',\n",
       "  'Steplenght': '0.5',\n",
       "  'Timestamp': '2018-06-20 09:57:31.284564'},\n",
       " {'Cadence': '0.8',\n",
       "  'Heartrate': '96',\n",
       "  'Inclination': '3.5',\n",
       "  'Speed': '5.1',\n",
       "  'Steplenght': '0.5',\n",
       "  'Timestamp': '2018-06-20 09:57:31.284564'},\n",
       " {'Cadence': '0.8',\n",
       "  'Heartrate': '96',\n",
       "  'Inclination': '3.5',\n",
       "  'Speed': '5.1',\n",
       "  'Steplenght': '0.5',\n",
       "  'Timestamp': '2018-06-20 09:57:31.284564'},\n",
       " {'Cadence': '0.8',\n",
       "  'Heartrate': '96',\n",
       "  'Inclination': '3.5',\n",
       "  'Speed': '5.1',\n",
       "  'Steplenght': '0.5',\n",
       "  'Timestamp': '2018-06-20 09:57:31.284564'}]"
      ]
     },
     "execution_count": 80,
     "metadata": {},
     "output_type": "execute_result"
    }
   ],
   "source": [
    "session_sensor_list"
   ]
  },
  {
   "cell_type": "code",
   "execution_count": 81,
   "metadata": {},
   "outputs": [
    {
     "data": {
      "text/plain": [
       "[\"BloodPressure;initial;{'systolic': 90, 'diastolic': 60};2018-06-20 09:57:25.960714\\n\",\n",
       " 'StartRecording;None;None;2018-06-20 09:57:28.255956\\n',\n",
       " 'Cooldown;None;None;2018-06-20 09:57:30.060585\\n',\n",
       " 'EndRecording;None;None;2018-06-20 09:57:31.531880\\n',\n",
       " \"BloodPressure;final;{'systolic': 90, 'diastolic': 60};2018-06-20 09:57:34.859117\\n\",\n",
       " \"Questions;None;{'satisfaction': 0, 'motivation': 3};2018-06-20 09:57:36.897052\\n\"]"
      ]
     },
     "execution_count": 81,
     "metadata": {},
     "output_type": "execute_result"
    }
   ],
   "source": [
    "ev"
   ]
  },
  {
   "cell_type": "code",
   "execution_count": 101,
   "metadata": {},
   "outputs": [
    {
     "name": "stdout",
     "output_type": "stream",
     "text": [
      "BloodPressure;initial;{'systolic': 90, 'diastolic': 60};2018-06-20 09:57:25.960714\n",
      "\n",
      "['BloodPressure', 'initial', \"{'systolic': 90, 'diastolic': 60}\", '2018-06-20 09:57:25.960714']\n",
      "[{'Cause': 'None', 'Type': 'Questions', 'Value': '', 'Timestamp': ''}]\n",
      "StartRecording;None;None;2018-06-20 09:57:28.255956\n",
      "\n",
      "['StartRecording', 'None', 'None', '2018-06-20 09:57:28.255956']\n",
      "[{'Cause': 'None', 'Type': 'Questions', 'Value': '', 'Timestamp': ''}, {'Cause': 'None', 'Type': 'Questions', 'Value': '', 'Timestamp': ''}]\n",
      "Cooldown;None;None;2018-06-20 09:57:30.060585\n",
      "\n",
      "['Cooldown', 'None', 'None', '2018-06-20 09:57:30.060585']\n",
      "[{'Cause': 'None', 'Type': 'Questions', 'Value': '', 'Timestamp': ''}, {'Cause': 'None', 'Type': 'Questions', 'Value': '', 'Timestamp': ''}, {'Cause': 'None', 'Type': 'Questions', 'Value': '', 'Timestamp': ''}]\n",
      "EndRecording;None;None;2018-06-20 09:57:31.531880\n",
      "\n",
      "['EndRecording', 'None', 'None', '2018-06-20 09:57:31.531880']\n",
      "[{'Cause': 'None', 'Type': 'Questions', 'Value': '', 'Timestamp': ''}, {'Cause': 'None', 'Type': 'Questions', 'Value': '', 'Timestamp': ''}, {'Cause': 'None', 'Type': 'Questions', 'Value': '', 'Timestamp': ''}, {'Cause': 'None', 'Type': 'Questions', 'Value': '', 'Timestamp': ''}]\n",
      "BloodPressure;final;{'systolic': 90, 'diastolic': 60};2018-06-20 09:57:34.859117\n",
      "\n",
      "['BloodPressure', 'final', \"{'systolic': 90, 'diastolic': 60}\", '2018-06-20 09:57:34.859117']\n",
      "[{'Cause': 'None', 'Type': 'Questions', 'Value': '', 'Timestamp': ''}, {'Cause': 'None', 'Type': 'Questions', 'Value': '', 'Timestamp': ''}, {'Cause': 'None', 'Type': 'Questions', 'Value': '', 'Timestamp': ''}, {'Cause': 'None', 'Type': 'Questions', 'Value': '', 'Timestamp': ''}, {'Cause': 'None', 'Type': 'Questions', 'Value': '', 'Timestamp': ''}]\n",
      "Questions;None;{'satisfaction': 0, 'motivation': 3};2018-06-20 09:57:36.897052\n",
      "\n",
      "['Questions', 'None', \"{'satisfaction': 0, 'motivation': 3}\", '2018-06-20 09:57:36.897052']\n",
      "[{'Cause': 'None', 'Type': 'Questions', 'Value': '', 'Timestamp': ''}, {'Cause': 'None', 'Type': 'Questions', 'Value': '', 'Timestamp': ''}, {'Cause': 'None', 'Type': 'Questions', 'Value': '', 'Timestamp': ''}, {'Cause': 'None', 'Type': 'Questions', 'Value': '', 'Timestamp': ''}, {'Cause': 'None', 'Type': 'Questions', 'Value': '', 'Timestamp': ''}, {'Cause': 'None', 'Type': 'Questions', 'Value': '', 'Timestamp': ''}]\n",
      "[{'Cause': 'None', 'Type': 'Questions', 'Value': '', 'Timestamp': ''}, {'Cause': 'None', 'Type': 'Questions', 'Value': '', 'Timestamp': ''}, {'Cause': 'None', 'Type': 'Questions', 'Value': '', 'Timestamp': ''}, {'Cause': 'None', 'Type': 'Questions', 'Value': '', 'Timestamp': ''}, {'Cause': 'None', 'Type': 'Questions', 'Value': '', 'Timestamp': ''}, {'Cause': 'None', 'Type': 'Questions', 'Value': '', 'Timestamp': ''}]\n"
     ]
    }
   ],
   "source": [
    "#ev_dict = {\"Type\":\"\",\"Cause\":\"\",\"Value\":\"\",\"Timestamp\":\"\"}\n",
    "\n",
    "L  =[]\n",
    "l = []\n",
    "for i in ev:\n",
    "    ev_dict = {}\n",
    "    print i\n",
    "    l = i.strip().split(\";\")\n",
    "    print l\n",
    "    ev_dict['Type'] = l[0]\n",
    "    ev_dict['Cause']  = l[1]\n",
    "    \n",
    "    L.append(di)\n",
    "    print L\n",
    "print L"
   ]
  },
  {
   "cell_type": "code",
   "execution_count": 117,
   "metadata": {},
   "outputs": [
    {
     "data": {
      "text/plain": [
       "{'average': [],\n",
       " 'date': '2018-6-20',\n",
       " 'events': [{'Cause': 'initial',\n",
       "   'Timestamp': '2018-06-20 09:57:25.960714',\n",
       "   'Type': 'BloodPressure',\n",
       "   'Value': \"{'systolic': 90, 'diastolic': 60}\"},\n",
       "  {'Cause': 'None',\n",
       "   'Timestamp': '2018-06-20 09:57:28.255956',\n",
       "   'Type': 'StartRecording',\n",
       "   'Value': 'None'},\n",
       "  {'Cause': 'None',\n",
       "   'Timestamp': '2018-06-20 09:57:30.060585',\n",
       "   'Type': 'Cooldown',\n",
       "   'Value': 'None'},\n",
       "  {'Cause': 'None',\n",
       "   'Timestamp': '2018-06-20 09:57:31.531880',\n",
       "   'Type': 'EndRecording',\n",
       "   'Value': 'None'},\n",
       "  {'Cause': 'final',\n",
       "   'Timestamp': '2018-06-20 09:57:34.859117',\n",
       "   'Type': 'BloodPressure',\n",
       "   'Value': \"{'systolic': 90, 'diastolic': 60}\"},\n",
       "  {'Cause': 'None',\n",
       "   'Timestamp': '2018-06-20 09:57:36.897052',\n",
       "   'Type': 'Questions',\n",
       "   'Value': \"{'satisfaction': 0, 'motivation': 3}\"}],\n",
       " 'sensors': [{'Cadence': '0.8',\n",
       "   'Heartrate': '71',\n",
       "   'Inclination': '1.5',\n",
       "   'Speed': '4.1',\n",
       "   'Steplenght': '0.5',\n",
       "   'Timestamp': '2018-06-20 09:57:28.280671'},\n",
       "  {'Cadence': '0.8',\n",
       "   'Heartrate': '95',\n",
       "   'Inclination': '3.5',\n",
       "   'Speed': '6.1',\n",
       "   'Steplenght': '0.5',\n",
       "   'Timestamp': '2018-06-20 09:57:29.282109'},\n",
       "  {'Cadence': '0.8',\n",
       "   'Heartrate': '89',\n",
       "   'Inclination': '3.5',\n",
       "   'Speed': '4.1',\n",
       "   'Steplenght': '0.5',\n",
       "   'Timestamp': '2018-06-20 09:57:30.283335'},\n",
       "  {'Cadence': '0.8',\n",
       "   'Heartrate': '96',\n",
       "   'Inclination': '3.5',\n",
       "   'Speed': '5.1',\n",
       "   'Steplenght': '0.5',\n",
       "   'Timestamp': '2018-06-20 09:57:31.284564'}]}"
      ]
     },
     "execution_count": 117,
     "metadata": {},
     "output_type": "execute_result"
    }
   ],
   "source": [
    "session_dict"
   ]
  },
  {
   "cell_type": "code",
   "execution_count": 108,
   "metadata": {},
   "outputs": [
    {
     "data": {
      "text/plain": [
       "[{'Cause': 'initial',\n",
       "  'Timestamp': '2018-06-20 09:57:25.960714',\n",
       "  'Type': 'BloodPressure',\n",
       "  'Value': \"{'systolic': 90, 'diastolic': 60}\"},\n",
       " {'Cause': 'None',\n",
       "  'Timestamp': '2018-06-20 09:57:28.255956',\n",
       "  'Type': 'StartRecording',\n",
       "  'Value': 'None'},\n",
       " {'Cause': 'None',\n",
       "  'Timestamp': '2018-06-20 09:57:30.060585',\n",
       "  'Type': 'Cooldown',\n",
       "  'Value': 'None'},\n",
       " {'Cause': 'None',\n",
       "  'Timestamp': '2018-06-20 09:57:31.531880',\n",
       "  'Type': 'EndRecording',\n",
       "  'Value': 'None'},\n",
       " {'Cause': 'final',\n",
       "  'Timestamp': '2018-06-20 09:57:34.859117',\n",
       "  'Type': 'BloodPressure',\n",
       "  'Value': \"{'systolic': 90, 'diastolic': 60}\"},\n",
       " {'Cause': 'None',\n",
       "  'Timestamp': '2018-06-20 09:57:36.897052',\n",
       "  'Type': 'Questions',\n",
       "  'Value': \"{'satisfaction': 0, 'motivation': 3}\"}]"
      ]
     },
     "execution_count": 108,
     "metadata": {},
     "output_type": "execute_result"
    }
   ],
   "source": [
    "session_event_list"
   ]
  },
  {
   "cell_type": "code",
   "execution_count": 109,
   "metadata": {},
   "outputs": [
    {
     "data": {
      "text/plain": [
       "[{'Cadence': '0.8',\n",
       "  'Heartrate': '71',\n",
       "  'Inclination': '1.5',\n",
       "  'Speed': '4.1',\n",
       "  'Steplenght': '0.5',\n",
       "  'Timestamp': '2018-06-20 09:57:28.280671'},\n",
       " {'Cadence': '0.8',\n",
       "  'Heartrate': '95',\n",
       "  'Inclination': '3.5',\n",
       "  'Speed': '6.1',\n",
       "  'Steplenght': '0.5',\n",
       "  'Timestamp': '2018-06-20 09:57:29.282109'},\n",
       " {'Cadence': '0.8',\n",
       "  'Heartrate': '89',\n",
       "  'Inclination': '3.5',\n",
       "  'Speed': '4.1',\n",
       "  'Steplenght': '0.5',\n",
       "  'Timestamp': '2018-06-20 09:57:30.283335'},\n",
       " {'Cadence': '0.8',\n",
       "  'Heartrate': '96',\n",
       "  'Inclination': '3.5',\n",
       "  'Speed': '5.1',\n",
       "  'Steplenght': '0.5',\n",
       "  'Timestamp': '2018-06-20 09:57:31.284564'}]"
      ]
     },
     "execution_count": 109,
     "metadata": {},
     "output_type": "execute_result"
    }
   ],
   "source": [
    "session_sensor_list"
   ]
  },
  {
   "cell_type": "code",
   "execution_count": 112,
   "metadata": {},
   "outputs": [
    {
     "data": {
      "text/plain": [
       "['2018-6-5', '2018-6-18', '2018-7-1', '2018-6-14', '2018-6-20']"
      ]
     },
     "execution_count": 112,
     "metadata": {},
     "output_type": "execute_result"
    }
   ],
   "source": [
    "dates"
   ]
  },
  {
   "cell_type": "code",
   "execution_count": 114,
   "metadata": {
    "collapsed": true
   },
   "outputs": [],
   "source": [
    "import datetime\n",
    "for date in dates:\n",
    "    d = datetime.datetime.strptime(date, '%Y-%m-%d')"
   ]
  },
  {
   "cell_type": "code",
   "execution_count": 115,
   "metadata": {},
   "outputs": [
    {
     "data": {
      "text/plain": [
       "datetime.datetime(2018, 6, 20, 0, 0)"
      ]
     },
     "execution_count": 115,
     "metadata": {},
     "output_type": "execute_result"
    }
   ],
   "source": [
    "d"
   ]
  },
  {
   "cell_type": "code",
   "execution_count": null,
   "metadata": {
    "collapsed": true
   },
   "outputs": [],
   "source": []
  }
 ],
 "metadata": {
  "kernelspec": {
   "display_name": "Python 2",
   "language": "python",
   "name": "python2"
  },
  "language_info": {
   "codemirror_mode": {
    "name": "ipython",
    "version": 2
   },
   "file_extension": ".py",
   "mimetype": "text/x-python",
   "name": "python",
   "nbconvert_exporter": "python",
   "pygments_lexer": "ipython2",
   "version": "2.7.13"
  }
 },
 "nbformat": 4,
 "nbformat_minor": 2
}
