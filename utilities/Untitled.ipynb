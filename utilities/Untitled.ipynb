{
 "cells": [
  {
   "cell_type": "code",
   "execution_count": 2,
   "metadata": {},
   "outputs": [
    {
     "name": "stdout",
     "output_type": "stream",
     "text": [
      "-------------------------------------------------\n",
      "SYSTEM:\n",
      "linux\n",
      "-------------------------------------------------\n",
      "Screen resolution\n",
      "{'width': 1920, 'height': 1080}\n",
      "-------------------------------------------------\n",
      "-----------setting directory address-------------\n",
      "general directory: /home/jonathan/github/Cardiac/utilities/db/general/\n",
      "sensor_lib directory: /home/jonathan/github/Cardiac/utilities/plugins/lib/\n",
      "recog_img directory: /home/jonathan/github/Cardiac/utilities/db/memory/recognition/images/\n",
      "robot_db directory: /home/jonathan/github/Cardiac/utilities/db/robot/\n",
      "recognition directory: /home/jonathan/github/Cardiac/utilities/db/memory/recognition/\n",
      "img directory: /home/jonathan/github/Cardiac/utilities/plugins/gui/img/\n",
      "current_session directory: /home/jonathan/github/Cardiac/utilities/\n",
      "memory_data directory: /home/jonathan/github/Cardiac/utilities/db/memory/data/\n",
      "current_user directory: /home/jonathan/github/Cardiac/utilities/\n",
      "recog_analysis directory: /home/jonathan/github/Cardiac/utilities/db/memory/recognition/AnalysisFolder/\n",
      "db directory: /home/jonathan/github/Cardiac/utilities/db/\n",
      "utilities directory: /home/jonathan/github/Cardiac/utilities/utilities/\n",
      "memorydb directory: /home/jonathan/github/Cardiac/utilities/db/memory/\n",
      "data directory: /home/jonathan/github/Cardiac/utilities/db/data/\n",
      "plugin directory: /home/jonathan/github/Cardiac/utilities/plugins/\n",
      "gui directory: /home/jonathan/github/Cardiac/utilities/plugins/gui/\n",
      "robotResources directory: /home/jonathan/github/Cardiac/utilities/plugins/robot/resources/\n",
      "db_lib directory: /home/jonathan/github/Cardiac/utilities/db/lib/\n",
      "memory_general directory: /home/jonathan/github/Cardiac/utilities/db/memory/general/\n",
      "robotController directory: /home/jonathan/github/Cardiac/utilities/plugins/robot/\n",
      "backup directory: /home/jonathan/github/Cardiac/utilities/db/backup/\n",
      "robotBehaviors directory: /home/jonathan/github/Cardiac/utilities/plugins/robot/behaviors/\n",
      "-------------------------------------------------\n"
     ]
    }
   ],
   "source": [
    "import project as pj\n",
    "ph = pj.ProjectHandler()"
   ]
  },
  {
   "cell_type": "code",
   "execution_count": 3,
   "metadata": {},
   "outputs": [
    {
     "name": "stdout",
     "output_type": "stream",
     "text": [
      "general\n",
      "sensor_lib\n",
      "recog_img\n",
      "robot_db\n",
      "recognition\n",
      "img\n",
      "current_session\n",
      "memory_data\n",
      "current_user\n",
      "recog_analysis\n",
      "db\n",
      "utilities\n",
      "memorydb\n",
      "data\n",
      "plugin\n",
      "gui\n",
      "robotResources\n",
      "db_lib\n",
      "memory_general\n",
      "robotController\n",
      "backup\n",
      "robotBehaviors\n"
     ]
    }
   ],
   "source": [
    "for key in ph.paths:\n",
    "    ph.paths[key] = replace()"
   ]
  },
  {
   "cell_type": "code",
   "execution_count": null,
   "metadata": {},
   "outputs": [],
   "source": []
  }
 ],
 "metadata": {
  "kernelspec": {
   "display_name": "Python 2",
   "language": "python",
   "name": "python2"
  },
  "language_info": {
   "codemirror_mode": {
    "name": "ipython",
    "version": 2
   },
   "file_extension": ".py",
   "mimetype": "text/x-python",
   "name": "python",
   "nbconvert_exporter": "python",
   "pygments_lexer": "ipython2",
   "version": "2.7.12"
  }
 },
 "nbformat": 4,
 "nbformat_minor": 2
}
