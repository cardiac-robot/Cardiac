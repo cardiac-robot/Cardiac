{
 "cells": [
  {
   "cell_type": "code",
   "execution_count": 146,
   "metadata": {},
   "outputs": [
    {
     "name": "stdout",
     "output_type": "stream",
     "text": [
      "exist\n"
     ]
    }
   ],
   "source": [
    "import os\n",
    "path = \"/home/jonathan/github/Cardiac/db/general\"\n",
    "\n",
    "person = {\"name\"   : \"martha casas\",\n",
    "                       \"gender\" : \"M\",\n",
    "                       \"age\"    : 26,\n",
    "                       \"height\" : 1.60,\n",
    "                       \"weight\" : 70,\n",
    "                       \"crotch\" : 0.8,\n",
    "                       \"disease\": \"cvd\",\n",
    "                       \"id\"     : \"1031135129\"\n",
    "                       }\n",
    "\n",
    "#check if patiens file exits\n",
    "if os.path.exists(path + \"/Patients.csv\"):\n",
    "    f = open(path + \"/Patients.csv\", 'r')\n",
    "    lines = f.readlines()\n",
    "    f.close()\n",
    "    print('exist')\n"
   ]
  },
  {
   "cell_type": "code",
   "execution_count": 147,
   "metadata": {},
   "outputs": [
    {
     "data": {
      "text/plain": [
       "['Id;Name;Gender;Age;Gender;Height;Weight;Crotch;Disease\\n',\n",
       " '1031137228;jonathan casas;M;nd;nd;nd\\n',\n",
       " '1031137228;jonathan casas;M;nd;nd;nd\\n',\n",
       " '1031137229;diego casas;M;26;1.6;70;0.8;cvd\\n',\n",
       " '1031137129;lina casas;M;26;1.6;70;0.8;cvd\\n',\n",
       " '1031135129;martha casas;M;26;1.6;70;0.8;cvd\\n']"
      ]
     },
     "execution_count": 147,
     "metadata": {},
     "output_type": "execute_result"
    }
   ],
   "source": [
    "lines"
   ]
  },
  {
   "cell_type": "code",
   "execution_count": 148,
   "metadata": {
    "collapsed": true
   },
   "outputs": [],
   "source": [
    "patients  = lines [1:]"
   ]
  },
  {
   "cell_type": "code",
   "execution_count": 149,
   "metadata": {},
   "outputs": [
    {
     "data": {
      "text/plain": [
       "['1031137228;jonathan casas;M;nd;nd;nd\\n',\n",
       " '1031137228;jonathan casas;M;nd;nd;nd\\n',\n",
       " '1031137229;diego casas;M;26;1.6;70;0.8;cvd\\n',\n",
       " '1031137129;lina casas;M;26;1.6;70;0.8;cvd\\n',\n",
       " '1031135129;martha casas;M;26;1.6;70;0.8;cvd\\n']"
      ]
     },
     "execution_count": 149,
     "metadata": {},
     "output_type": "execute_result"
    }
   ],
   "source": [
    "patients\n"
   ]
  },
  {
   "cell_type": "code",
   "execution_count": 141,
   "metadata": {},
   "outputs": [],
   "source": [
    "def test():\n",
    "\n",
    "    for p in patients:\n",
    "        pl = p.split(\";\")\n",
    "        if pl[0] == person['id']:\n",
    "            print \"registered\"\n",
    "            return {\"name\" : pl[1], \"registered\" : True}\n",
    "    \n",
    "    return {\"name\" : \"no data\", \"registered\" : False}\n"
   ]
  },
  {
   "cell_type": "code",
   "execution_count": 142,
   "metadata": {},
   "outputs": [],
   "source": [
    "f = open(path + \"/Patients.csv\", 'r+')"
   ]
  },
  {
   "cell_type": "code",
   "execution_count": 143,
   "metadata": {},
   "outputs": [
    {
     "data": {
      "text/plain": [
       "['Id;Name;Gender;Age;Gender;Height;Weight;Crotch;Disease\\n',\n",
       " '1031137228;jonathan casas;M;nd;nd;nd\\n',\n",
       " '1031137228;jonathan casas;M;nd;nd;nd\\n',\n",
       " '1031137229;diego casas;M;26;1.6;70;0.8;cvd\\n',\n",
       " '1031137129;lina casas;M;26;1.6;70;0.8;cvd\\n']"
      ]
     },
     "execution_count": 143,
     "metadata": {},
     "output_type": "execute_result"
    }
   ],
   "source": [
    "f.readlines()"
   ]
  },
  {
   "cell_type": "code",
   "execution_count": 144,
   "metadata": {},
   "outputs": [
    {
     "name": "stdout",
     "output_type": "stream",
     "text": [
      "a\n"
     ]
    }
   ],
   "source": [
    "a = test()\n",
    "if not a['registered']:\n",
    "    print \"a\"\n",
    "    lines = f.readlines()\n",
    "    f.write(person['id']+\";\"+person['name']+\";\"+person['gender']+\";\"+str(person['age'])+\";\"+str(person['height'])+\";\"+str(person['weight'])+\";\"+str(person['crotch'])+\";\"+person['disease']+'\\n')\n",
    "    f.close()"
   ]
  },
  {
   "cell_type": "code",
   "execution_count": 145,
   "metadata": {},
   "outputs": [
    {
     "data": {
      "text/plain": [
       "{'name': 'no data', 'registered': False}"
      ]
     },
     "execution_count": 145,
     "metadata": {},
     "output_type": "execute_result"
    }
   ],
   "source": [
    "a"
   ]
  },
  {
   "cell_type": "code",
   "execution_count": 153,
   "metadata": {},
   "outputs": [],
   "source": [
    "import datetime\n",
    "def load_sensor_data(hr = 0,speed =0,cadence = 0, sl =0, inclination = 0 ):\n",
    "        data = str(hr) + \";\" + str(speed) + \";\" +str(cadence) + \";\" +str(sl) + \";\" +str(inclination) + \";\" +datetime.datetime.now()\n"
   ]
  },
  {
   "cell_type": "code",
   "execution_count": 154,
   "metadata": {},
   "outputs": [
    {
     "ename": "TypeError",
     "evalue": "load_sensor_data() takes at least 1 argument (0 given)",
     "output_type": "error",
     "traceback": [
      "\u001b[0;31m---------------------------------------------------------------------------\u001b[0m",
      "\u001b[0;31mTypeError\u001b[0m                                 Traceback (most recent call last)",
      "\u001b[0;32m<ipython-input-154-7813b536b6ea>\u001b[0m in \u001b[0;36m<module>\u001b[0;34m()\u001b[0m\n\u001b[0;32m----> 1\u001b[0;31m \u001b[0mload_sensor_data\u001b[0m\u001b[0;34m(\u001b[0m\u001b[0;34m)\u001b[0m\u001b[0;34m\u001b[0m\u001b[0m\n\u001b[0m",
      "\u001b[0;31mTypeError\u001b[0m: load_sensor_data() takes at least 1 argument (0 given)"
     ]
    }
   ],
   "source": [
    "load_sensor_data()"
   ]
  },
  {
   "cell_type": "code",
   "execution_count": null,
   "metadata": {},
   "outputs": [],
   "source": []
  },
  {
   "cell_type": "code",
   "execution_count": null,
   "metadata": {
    "collapsed": true
   },
   "outputs": [],
   "source": []
  }
 ],
 "metadata": {
  "kernelspec": {
   "display_name": "Python 2",
   "language": "python",
   "name": "python2"
  },
  "language_info": {
   "codemirror_mode": {
    "name": "ipython",
    "version": 2
   },
   "file_extension": ".py",
   "mimetype": "text/x-python",
   "name": "python",
   "nbconvert_exporter": "python",
   "pygments_lexer": "ipython2",
   "version": "2.7.13"
  }
 },
 "nbformat": 4,
 "nbformat_minor": 2
}
