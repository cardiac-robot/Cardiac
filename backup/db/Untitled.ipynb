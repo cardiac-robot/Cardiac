{
 "cells": [
  {
   "cell_type": "code",
   "execution_count": 146,
   "metadata": {},
   "outputs": [
    {
     "name": "stdout",
     "output_type": "stream",
     "text": [
      "exist\n"
     ]
    }
   ],
   "source": [
    "import os\n",
    "path = \"/home/jonathan/github/Cardiac/db/general\"\n",
    "\n",
    "person = {\"name\"   : \"martha casas\",\n",
    "                       \"gender\" : \"M\",\n",
    "                       \"age\"    : 26,\n",
    "                       \"height\" : 1.60,\n",
    "                       \"weight\" : 70,\n",
    "                       \"crotch\" : 0.8,\n",
    "                       \"disease\": \"cvd\",\n",
    "                       \"id\"     : \"1031135129\"\n",
    "                       }\n",
    "\n",
    "#check if patiens file exits\n",
    "if os.path.exists(path + \"/Patients.csv\"):\n",
    "    f = open(path + \"/Patients.csv\", 'r')\n",
    "    lines = f.readlines()\n",
    "    f.close()\n",
    "    print('exist')\n"
   ]
  },
  {
   "cell_type": "code",
   "execution_count": 147,
   "metadata": {},
   "outputs": [
    {
     "data": {
      "text/plain": [
       "['Id;Name;Gender;Age;Gender;Height;Weight;Crotch;Disease\\n',\n",
       " '1031137228;jonathan casas;M;nd;nd;nd\\n',\n",
       " '1031137228;jonathan casas;M;nd;nd;nd\\n',\n",
       " '1031137229;diego casas;M;26;1.6;70;0.8;cvd\\n',\n",
       " '1031137129;lina casas;M;26;1.6;70;0.8;cvd\\n',\n",
       " '1031135129;martha casas;M;26;1.6;70;0.8;cvd\\n']"
      ]
     },
     "execution_count": 147,
     "metadata": {},
     "output_type": "execute_result"
    }
   ],
   "source": [
    "lines"
   ]
  },
  {
   "cell_type": "code",
   "execution_count": 148,
   "metadata": {
    "collapsed": true
   },
   "outputs": [],
   "source": [
    "patients  = lines [1:]"
   ]
  },
  {
   "cell_type": "code",
   "execution_count": 149,
   "metadata": {},
   "outputs": [
    {
     "data": {
      "text/plain": [
       "['1031137228;jonathan casas;M;nd;nd;nd\\n',\n",
       " '1031137228;jonathan casas;M;nd;nd;nd\\n',\n",
       " '1031137229;diego casas;M;26;1.6;70;0.8;cvd\\n',\n",
       " '1031137129;lina casas;M;26;1.6;70;0.8;cvd\\n',\n",
       " '1031135129;martha casas;M;26;1.6;70;0.8;cvd\\n']"
      ]
     },
     "execution_count": 149,
     "metadata": {},
     "output_type": "execute_result"
    }
   ],
   "source": [
    "patients\n"
   ]
  },
  {
   "cell_type": "code",
   "execution_count": 141,
   "metadata": {},
   "outputs": [],
   "source": [
    "def test():\n",
    "\n",
    "    for p in patients:\n",
    "        pl = p.split(\";\")\n",
    "        if pl[0] == person['id']:\n",
    "            print \"registered\"\n",
    "            return {\"name\" : pl[1], \"registered\" : True}\n",
    "    \n",
    "    return {\"name\" : \"no data\", \"registered\" : False}\n"
   ]
  },
  {
   "cell_type": "code",
   "execution_count": 142,
   "metadata": {},
   "outputs": [],
   "source": [
    "f = open(path + \"/Patients.csv\", 'r+')"
   ]
  },
  {
   "cell_type": "code",
   "execution_count": 143,
   "metadata": {},
   "outputs": [
    {
     "data": {
      "text/plain": [
       "['Id;Name;Gender;Age;Gender;Height;Weight;Crotch;Disease\\n',\n",
       " '1031137228;jonathan casas;M;nd;nd;nd\\n',\n",
       " '1031137228;jonathan casas;M;nd;nd;nd\\n',\n",
       " '1031137229;diego casas;M;26;1.6;70;0.8;cvd\\n',\n",
       " '1031137129;lina casas;M;26;1.6;70;0.8;cvd\\n']"
      ]
     },
     "execution_count": 143,
     "metadata": {},
     "output_type": "execute_result"
    }
   ],
   "source": [
    "f.readlines()"
   ]
  },
  {
   "cell_type": "code",
   "execution_count": 144,
   "metadata": {},
   "outputs": [
    {
     "name": "stdout",
     "output_type": "stream",
     "text": [
      "a\n"
     ]
    }
   ],
   "source": [
    "a = test()\n",
    "if not a['registered']:\n",
    "    print \"a\"\n",
    "    lines = f.readlines()\n",
    "    f.write(person['id']+\";\"+person['name']+\";\"+person['gender']+\";\"+str(person['age'])+\";\"+str(person['height'])+\";\"+str(person['weight'])+\";\"+str(person['crotch'])+\";\"+person['disease']+'\\n')\n",
    "    f.close()"
   ]
  },
  {
   "cell_type": "code",
   "execution_count": 145,
   "metadata": {},
   "outputs": [
    {
     "data": {
      "text/plain": [
       "{'name': 'no data', 'registered': False}"
      ]
     },
     "execution_count": 145,
     "metadata": {},
     "output_type": "execute_result"
    }
   ],
   "source": [
    "a"
   ]
  },
  {
   "cell_type": "code",
   "execution_count": 160,
   "metadata": {},
   "outputs": [],
   "source": [
    "import datetime\n",
    "def load_sensor_data(hr = 0,speed =0,cadence = 0, sl =0, inclination = 0 ):\n",
    "        data = str(hr) + \";\" + str(speed) + \";\" +str(cadence) + \";\" +str(sl) + \";\" +str(inclination) + \";\" +str(datetime.datetime.now())\n",
    "        print(data)"
   ]
  },
  {
   "cell_type": "code",
   "execution_count": 161,
   "metadata": {},
   "outputs": [
    {
     "name": "stdout",
     "output_type": "stream",
     "text": [
      "0;0;0;0;0;2018-04-14 21:08:38.603459\n"
     ]
    }
   ],
   "source": [
    "load_sensor_data()"
   ]
  },
  {
   "cell_type": "code",
   "execution_count": 159,
   "metadata": {},
   "outputs": [
    {
     "ename": "NameError",
     "evalue": "name 'data' is not defined",
     "output_type": "error",
     "traceback": [
      "\u001b[0;31m---------------------------------------------------------------------------\u001b[0m",
      "\u001b[0;31mNameError\u001b[0m                                 Traceback (most recent call last)",
      "\u001b[0;32m<ipython-input-159-6137cde4893c>\u001b[0m in \u001b[0;36m<module>\u001b[0;34m()\u001b[0m\n\u001b[0;32m----> 1\u001b[0;31m \u001b[0mdata\u001b[0m\u001b[0;34m\u001b[0m\u001b[0m\n\u001b[0m",
      "\u001b[0;31mNameError\u001b[0m: name 'data' is not defined"
     ]
    }
   ],
   "source": [
    "data"
   ]
  },
  {
   "cell_type": "code",
   "execution_count": 164,
   "metadata": {},
   "outputs": [],
   "source": [
    "path = \"/home/jonathan/github/Cardiac/db/general\"\n",
    "#read threapy settings files\n",
    "f = open(path + \"/TherapySettings.csv\", 'r')\n",
    "lines = f.readlines()\n",
    "settings  = lines[1].split(';')\n",
    "s = {'ImuPort': settings[0],'LaserPort': settings[1],'EcgPort': settings[2],'ImuSample':float(settings[3]),'LaserSample':float(settings[4]),'EcgSample': float(settings[5]),'IpRobot': settings[6],'Modality': int(settings[7])}"
   ]
  },
  {
   "cell_type": "code",
   "execution_count": 165,
   "metadata": {},
   "outputs": [
    {
     "data": {
      "text/plain": [
       "{'EcgPort': 'COM6',\n",
       " 'EcgSample': 0.5,\n",
       " 'ImuPort': 'COM4',\n",
       " 'ImuSample': 1.0,\n",
       " 'IpRobot': '192.168.1.10',\n",
       " 'LaserPort': 'COM5',\n",
       " 'LaserSample': 1.0,\n",
       " 'Modality': 1}"
      ]
     },
     "execution_count": 165,
     "metadata": {},
     "output_type": "execute_result"
    }
   ],
   "source": [
    "s"
   ]
  },
  {
   "cell_type": "code",
   "execution_count": 167,
   "metadata": {},
   "outputs": [
    {
     "data": {
      "text/plain": [
       "1"
      ]
     },
     "execution_count": 167,
     "metadata": {},
     "output_type": "execute_result"
    }
   ],
   "source": [
    "s['Modality']"
   ]
  },
  {
   "cell_type": "code",
   "execution_count": null,
   "metadata": {
    "collapsed": true
   },
   "outputs": [],
   "source": []
  }
 ],
 "metadata": {
  "kernelspec": {
   "display_name": "Python 2",
   "language": "python",
   "name": "python2"
  },
  "language_info": {
   "codemirror_mode": {
    "name": "ipython",
    "version": 2
   },
   "file_extension": ".py",
   "mimetype": "text/x-python",
   "name": "python",
   "nbconvert_exporter": "python",
   "pygments_lexer": "ipython2",
   "version": "2.7.13"
  }
 },
 "nbformat": 4,
 "nbformat_minor": 2
}
