{
 "cells": [
  {
   "cell_type": "code",
   "execution_count": 25,
   "metadata": {},
   "outputs": [],
   "source": [
    "f = open(\"general/Patients.csv\",'r')\n",
    "a = f.readlines()"
   ]
  },
  {
   "cell_type": "code",
   "execution_count": 26,
   "metadata": {},
   "outputs": [
    {
     "name": "stdout",
     "output_type": "stream",
     "text": [
      "1031137228\n",
      "1234567\n",
      "1234\n",
      "12345\n",
      "4321\n"
     ]
    }
   ],
   "source": [
    "for i in a[1:]:\n",
    "    i = i.strip()\n",
    "    l = i.split(\";\")\n",
    "    print l[0]"
   ]
  },
  {
   "cell_type": "code",
   "execution_count": 27,
   "metadata": {},
   "outputs": [
    {
     "data": {
      "text/plain": [
       "['Id;Name;Gender;Age;Height;Weight;Crotch;Disease\\n',\n",
       " '1031137228;jonathancasas;F;26;170;70;80;cvd\\n',\n",
       " '1234567;diego;F;24;10;20;30;bdh\\n',\n",
       " '1234;diego;F;24;1;1;1;jj\\n',\n",
       " '12345;lina;F;1;1;1;1;as\\n',\n",
       " '4321;alfonso;F;1;1;1;3;dn\\n']"
      ]
     },
     "execution_count": 27,
     "metadata": {},
     "output_type": "execute_result"
    }
   ],
   "source": [
    "a"
   ]
  },
  {
   "cell_type": "code",
   "execution_count": 28,
   "metadata": {},
   "outputs": [
    {
     "name": "stdout",
     "output_type": "stream",
     "text": [
      "[['1031137228', 'jonathancasas', 'F', '26', '170', '70', '80', 'cvd']]\n",
      "[['1031137228', 'jonathancasas', 'F', '26', '170', '70', '80', 'cvd'], ['1234567', 'diego', 'F', '24', '10', '20', '30', 'bdh']]\n",
      "[['1031137228', 'jonathancasas', 'F', '26', '170', '70', '80', 'cvd'], ['1234567', 'diego', 'F', '24', '10', '20', '30', 'bdh'], ['1234', 'diego', 'F', '24', '1', '1', '1', 'jj']]\n",
      "[['1031137228', 'jonathancasas', 'F', '26', '170', '70', '80', 'cvd'], ['1234567', 'diego', 'F', '24', '10', '20', '30', 'bdh'], ['1234', 'diego', 'F', '24', '1', '1', '1', 'jj'], ['12345', 'lina', 'F', '1', '1', '1', '1', 'as']]\n",
      "[['1031137228', 'jonathancasas', 'F', '26', '170', '70', '80', 'cvd'], ['1234567', 'diego', 'F', '24', '10', '20', '30', 'bdh'], ['1234', 'diego', 'F', '24', '1', '1', '1', 'jj'], ['12345', 'lina', 'F', '1', '1', '1', '1', 'as'], ['4321', 'alfonso', 'F', '1', '1', '1', '3', 'dn']]\n"
     ]
    }
   ],
   "source": [
    "L = []\n",
    "for i in a[1:]:\n",
    "    L.append(i.strip().split(\";\"))\n",
    "    print L"
   ]
  },
  {
   "cell_type": "code",
   "execution_count": 29,
   "metadata": {},
   "outputs": [
    {
     "name": "stdout",
     "output_type": "stream",
     "text": [
      "['1031137228', 'jonathancasas', 'F', '26', '170', '70', '80', 'cvd']\n",
      "['1234567', 'diego', 'F', '24', '10', '20', '30', 'bdh']\n",
      "['1234', 'diego', 'F', '24', '1', '1', '1', 'jj']\n",
      "['12345', 'lina', 'F', '1', '1', '1', '1', 'as']\n",
      "['4321', 'alfonso', 'F', '1', '1', '1', '3', 'dn']\n"
     ]
    }
   ],
   "source": [
    "for i in L:\n",
    "    print i"
   ]
  },
  {
   "cell_type": "code",
   "execution_count": 35,
   "metadata": {},
   "outputs": [],
   "source": [
    "import os\n",
    "a = os.walk(\"./data\")"
   ]
  },
  {
   "cell_type": "code",
   "execution_count": 36,
   "metadata": {},
   "outputs": [
    {
     "name": "stdout",
     "output_type": "stream",
     "text": [
      "('./data', ['lina', 'alfonso', 'jonathancasas', 'diego'], [])\n",
      "('./data/lina', ['2018-5-21'], ['times.csv'])\n",
      "('./data/lina/2018-5-21', [], ['Events.csv', 'Sensors.csv'])\n",
      "('./data/alfonso', ['2018-5-22', '2018-5-21', '2018-5-28', '2018-5-31'], ['times.csv'])\n",
      "('./data/alfonso/2018-5-22', [], ['Events.csv', 'Sensors.csv'])\n",
      "('./data/alfonso/2018-5-21', [], ['Events.csv', 'Sensors.csv'])\n",
      "('./data/alfonso/2018-5-28', [], ['Events.csv', 'Sensors.csv'])\n",
      "('./data/alfonso/2018-5-31', [], ['Events.csv', 'Sensors.csv'])\n",
      "('./data/jonathancasas', ['2018-5-19', '2018-5-22', '2018-5-21', '2018-5-28', '2018-5-15', '2018-5-17'], ['times.csv'])\n",
      "('./data/jonathancasas/2018-5-19', [], ['Events.csv', 'Sensors.csv'])\n",
      "('./data/jonathancasas/2018-5-22', [], ['Events.csv', 'Sensors.csv'])\n",
      "('./data/jonathancasas/2018-5-21', [], ['Events.csv', 'Sensors.csv'])\n",
      "('./data/jonathancasas/2018-5-28', [], ['Events.csv', 'Sensors.csv'])\n",
      "('./data/jonathancasas/2018-5-15', [], ['Events.csv', 'Sensors.csv'])\n",
      "('./data/jonathancasas/2018-5-17', [], ['Events.csv', 'Sensors.csv'])\n",
      "('./data/diego', ['2018-5-15'], [])\n",
      "('./data/diego/2018-5-15', [], ['Events.csv', 'Sensors.csv'])\n"
     ]
    }
   ],
   "source": [
    "for i in a:\n",
    "    print i"
   ]
  },
  {
   "cell_type": "code",
   "execution_count": 37,
   "metadata": {},
   "outputs": [
    {
     "data": {
      "text/plain": [
       "['data',\n",
       " 'general',\n",
       " 'robot',\n",
       " '.ipynb_checkpoints',\n",
       " 'recognition',\n",
       " 'lib',\n",
       " 'backup']"
      ]
     },
     "execution_count": 37,
     "metadata": {},
     "output_type": "execute_result"
    }
   ],
   "source": [
    "next(os.walk('.'))[1]"
   ]
  },
  {
   "cell_type": "code",
   "execution_count": 40,
   "metadata": {},
   "outputs": [
    {
     "data": {
      "text/plain": [
       "['010324', 'lina', 'alfonso', 'jonathancasas', 'diego', '1031137228']"
      ]
     },
     "execution_count": 40,
     "metadata": {},
     "output_type": "execute_result"
    }
   ],
   "source": [
    "next(os.walk('./data'))[1]"
   ]
  },
  {
   "cell_type": "code",
   "execution_count": 41,
   "metadata": {
    "collapsed": true
   },
   "outputs": [],
   "source": [
    "dirs = next(os.walk('./data'))[1]\n"
   ]
  },
  {
   "cell_type": "code",
   "execution_count": 42,
   "metadata": {},
   "outputs": [
    {
     "data": {
      "text/plain": [
       "['010324', 'lina', 'alfonso', 'jonathancasas', 'diego', '1031137228']"
      ]
     },
     "execution_count": 42,
     "metadata": {},
     "output_type": "execute_result"
    }
   ],
   "source": [
    "dirs"
   ]
  },
  {
   "cell_type": "code",
   "execution_count": 50,
   "metadata": {},
   "outputs": [
    {
     "name": "stdout",
     "output_type": "stream",
     "text": [
      "./data/010324/times.csv\n",
      "['times\\n', '2018-05-31 14:29:22.648159\\n', '2018-05-31 14:48:41.832972\\n']\n",
      "./data/lina/times.csv\n",
      "['2018-05-21 15:24:13.645427\\n', '2018-05-21 15:25:32.230357\\n']\n",
      "./data/alfonso/times.csv\n",
      "['times\\n', '2018-05-21 15:27:57.466198\\n', '2018-05-21 15:30:07.720814\\n', '2018-05-21 16:20:27.711658\\n', '2018-05-21 16:45:26.186830\\n', '2018-05-21 16:50:02.190193\\n', '2018-05-22 11:41:39.546835\\n', '2018-05-22 11:47:02.246992\\n', '2018-05-28 09:58:09.403106\\n', '2018-05-28 10:22:11.158225\\n', '2018-05-28 10:54:09.715249\\n', '2018-05-28 10:58:51.042807\\n', '2018-05-28 14:03:30.700259\\n', '2018-05-28 14:08:19.826304\\n', '2018-05-28 15:58:18.766795\\n', '2018-05-28 16:04:40.754016\\n', '2018-05-28 16:06:48.589536\\n', '2018-05-28 17:21:17.384814\\n', '2018-05-28 17:29:20.786955\\n', '2018-05-31 12:18:54.365233\\n']\n",
      "./data/jonathancasas/times.csv\n",
      "['2018-05-21 16:04:20.400561\\n', '2018-05-22 11:52:06.555792\\n', '2018-05-28 10:27:01.402249\\n', '2018-05-28 16:08:15.542891\\n', '2018-05-28 17:26:15.353385\\n', '2018-05-28 17:31:29.070662\\n']\n",
      "./data/diego/times.csv\n",
      "./data/1031137228/times.csv\n"
     ]
    }
   ],
   "source": [
    "for d in dirs:\n",
    "    p = './data/' + d + \"/times.csv\"\n",
    "    print p\n",
    "    if os.path.exists(p):\n",
    "        f = open(p , \"r\")\n",
    "        a= f.readlines()\n",
    "        print a\n",
    "        f.close()\n",
    "        "
   ]
  },
  {
   "cell_type": "code",
   "execution_count": 95,
   "metadata": {},
   "outputs": [],
   "source": [
    "import datetime\n",
    "def load_user_times(p):\n",
    "        #get user path\n",
    "        #path = self.PH.paths['current_user']\n",
    "        path = p + \"/times.csv\"\n",
    "        if os.path.exists(path):\n",
    "            #open time files\n",
    "            f = open(path,'r')\n",
    "            #read times\n",
    "            p = f.readlines()\n",
    "            #eliminate \"\\n\" character\n",
    "            l = [i.strip() for i in p]\n",
    "            print l\n",
    "            #remove header\n",
    "            times = l[1:]\n",
    "            #convert to datetime format\n",
    "            print times\n",
    "            t = [datetime.datetime.strptime(i,'%Y-%m-%d %H:%M:%S.%f') for i in times]\n",
    "            #return list of time attendance\n",
    "            return t"
   ]
  },
  {
   "cell_type": "code",
   "execution_count": 96,
   "metadata": {
    "collapsed": true
   },
   "outputs": [],
   "source": [
    "def get_all_times():\n",
    "\n",
    "        Times = {}\n",
    "\n",
    "        dirs = next(os.walk('./data/'))[1]\n",
    "\n",
    "        for d in dirs:\n",
    "            path = './data/' + d \n",
    "            l = load_user_times(p = path)\n",
    "            Times[d] = l\n",
    "\n",
    "        return Times\n"
   ]
  },
  {
   "cell_type": "code",
   "execution_count": 97,
   "metadata": {},
   "outputs": [
    {
     "name": "stdout",
     "output_type": "stream",
     "text": [
      "['times', '2018-05-31 14:29:22.648159', '2018-05-31 14:48:41.832972']\n",
      "['2018-05-31 14:29:22.648159', '2018-05-31 14:48:41.832972']\n",
      "['2018-05-21 15:24:13.645427', '2018-05-21 15:25:32.230357']\n",
      "['2018-05-21 15:25:32.230357']\n",
      "['times', '2018-05-21 15:27:57.466198', '2018-05-21 15:30:07.720814', '2018-05-21 16:20:27.711658', '2018-05-21 16:45:26.186830', '2018-05-21 16:50:02.190193', '2018-05-22 11:41:39.546835', '2018-05-22 11:47:02.246992', '2018-05-28 09:58:09.403106', '2018-05-28 10:22:11.158225', '2018-05-28 10:54:09.715249', '2018-05-28 10:58:51.042807', '2018-05-28 14:03:30.700259', '2018-05-28 14:08:19.826304', '2018-05-28 15:58:18.766795', '2018-05-28 16:04:40.754016', '2018-05-28 16:06:48.589536', '2018-05-28 17:21:17.384814', '2018-05-28 17:29:20.786955', '2018-05-31 12:18:54.365233']\n",
      "['2018-05-21 15:27:57.466198', '2018-05-21 15:30:07.720814', '2018-05-21 16:20:27.711658', '2018-05-21 16:45:26.186830', '2018-05-21 16:50:02.190193', '2018-05-22 11:41:39.546835', '2018-05-22 11:47:02.246992', '2018-05-28 09:58:09.403106', '2018-05-28 10:22:11.158225', '2018-05-28 10:54:09.715249', '2018-05-28 10:58:51.042807', '2018-05-28 14:03:30.700259', '2018-05-28 14:08:19.826304', '2018-05-28 15:58:18.766795', '2018-05-28 16:04:40.754016', '2018-05-28 16:06:48.589536', '2018-05-28 17:21:17.384814', '2018-05-28 17:29:20.786955', '2018-05-31 12:18:54.365233']\n",
      "['2018-05-21 16:04:20.400561', '2018-05-22 11:52:06.555792', '2018-05-28 10:27:01.402249', '2018-05-28 16:08:15.542891', '2018-05-28 17:26:15.353385', '2018-05-28 17:31:29.070662']\n",
      "['2018-05-22 11:52:06.555792', '2018-05-28 10:27:01.402249', '2018-05-28 16:08:15.542891', '2018-05-28 17:26:15.353385', '2018-05-28 17:31:29.070662']\n"
     ]
    }
   ],
   "source": [
    "t = get_all_times()"
   ]
  },
  {
   "cell_type": "code",
   "execution_count": 98,
   "metadata": {},
   "outputs": [
    {
     "data": {
      "text/plain": [
       "{'010324': [datetime.datetime(2018, 5, 31, 14, 29, 22, 648159),\n",
       "  datetime.datetime(2018, 5, 31, 14, 48, 41, 832972)],\n",
       " '1031137228': None,\n",
       " 'alfonso': [datetime.datetime(2018, 5, 21, 15, 27, 57, 466198),\n",
       "  datetime.datetime(2018, 5, 21, 15, 30, 7, 720814),\n",
       "  datetime.datetime(2018, 5, 21, 16, 20, 27, 711658),\n",
       "  datetime.datetime(2018, 5, 21, 16, 45, 26, 186830),\n",
       "  datetime.datetime(2018, 5, 21, 16, 50, 2, 190193),\n",
       "  datetime.datetime(2018, 5, 22, 11, 41, 39, 546835),\n",
       "  datetime.datetime(2018, 5, 22, 11, 47, 2, 246992),\n",
       "  datetime.datetime(2018, 5, 28, 9, 58, 9, 403106),\n",
       "  datetime.datetime(2018, 5, 28, 10, 22, 11, 158225),\n",
       "  datetime.datetime(2018, 5, 28, 10, 54, 9, 715249),\n",
       "  datetime.datetime(2018, 5, 28, 10, 58, 51, 42807),\n",
       "  datetime.datetime(2018, 5, 28, 14, 3, 30, 700259),\n",
       "  datetime.datetime(2018, 5, 28, 14, 8, 19, 826304),\n",
       "  datetime.datetime(2018, 5, 28, 15, 58, 18, 766795),\n",
       "  datetime.datetime(2018, 5, 28, 16, 4, 40, 754016),\n",
       "  datetime.datetime(2018, 5, 28, 16, 6, 48, 589536),\n",
       "  datetime.datetime(2018, 5, 28, 17, 21, 17, 384814),\n",
       "  datetime.datetime(2018, 5, 28, 17, 29, 20, 786955),\n",
       "  datetime.datetime(2018, 5, 31, 12, 18, 54, 365233)],\n",
       " 'diego': None,\n",
       " 'jonathancasas': [datetime.datetime(2018, 5, 22, 11, 52, 6, 555792),\n",
       "  datetime.datetime(2018, 5, 28, 10, 27, 1, 402249),\n",
       "  datetime.datetime(2018, 5, 28, 16, 8, 15, 542891),\n",
       "  datetime.datetime(2018, 5, 28, 17, 26, 15, 353385),\n",
       "  datetime.datetime(2018, 5, 28, 17, 31, 29, 70662)],\n",
       " 'lina': [datetime.datetime(2018, 5, 21, 15, 25, 32, 230357)]}"
      ]
     },
     "execution_count": 98,
     "metadata": {},
     "output_type": "execute_result"
    }
   ],
   "source": [
    "t"
   ]
  },
  {
   "cell_type": "code",
   "execution_count": 101,
   "metadata": {},
   "outputs": [
    {
     "name": "stdout",
     "output_type": "stream",
     "text": [
      "None\n",
      "None\n",
      "[datetime.datetime(2018, 5, 22, 11, 52, 6, 555792), datetime.datetime(2018, 5, 28, 10, 27, 1, 402249), datetime.datetime(2018, 5, 28, 16, 8, 15, 542891), datetime.datetime(2018, 5, 28, 17, 26, 15, 353385), datetime.datetime(2018, 5, 28, 17, 31, 29, 70662)]\n",
      "[datetime.datetime(2018, 5, 21, 15, 27, 57, 466198), datetime.datetime(2018, 5, 21, 15, 30, 7, 720814), datetime.datetime(2018, 5, 21, 16, 20, 27, 711658), datetime.datetime(2018, 5, 21, 16, 45, 26, 186830), datetime.datetime(2018, 5, 21, 16, 50, 2, 190193), datetime.datetime(2018, 5, 22, 11, 41, 39, 546835), datetime.datetime(2018, 5, 22, 11, 47, 2, 246992), datetime.datetime(2018, 5, 28, 9, 58, 9, 403106), datetime.datetime(2018, 5, 28, 10, 22, 11, 158225), datetime.datetime(2018, 5, 28, 10, 54, 9, 715249), datetime.datetime(2018, 5, 28, 10, 58, 51, 42807), datetime.datetime(2018, 5, 28, 14, 3, 30, 700259), datetime.datetime(2018, 5, 28, 14, 8, 19, 826304), datetime.datetime(2018, 5, 28, 15, 58, 18, 766795), datetime.datetime(2018, 5, 28, 16, 4, 40, 754016), datetime.datetime(2018, 5, 28, 16, 6, 48, 589536), datetime.datetime(2018, 5, 28, 17, 21, 17, 384814), datetime.datetime(2018, 5, 28, 17, 29, 20, 786955), datetime.datetime(2018, 5, 31, 12, 18, 54, 365233)]\n",
      "[datetime.datetime(2018, 5, 31, 14, 29, 22, 648159), datetime.datetime(2018, 5, 31, 14, 48, 41, 832972)]\n",
      "[datetime.datetime(2018, 5, 21, 15, 25, 32, 230357)]\n"
     ]
    }
   ],
   "source": [
    "for i in t:\n",
    "    print t[i]"
   ]
  },
  {
   "cell_type": "code",
   "execution_count": 121,
   "metadata": {},
   "outputs": [
    {
     "name": "stdout",
     "output_type": "stream",
     "text": [
      "[['11:52:06', 2], ['10:27:01', 1], ['16:08:15', 1], ['17:26:15', 1], ['17:31:29', 1]]\n",
      "[['15:27:57', 1], ['15:30:07', 1], ['16:20:27', 1], ['16:45:26', 1], ['16:50:02', 1], ['11:41:39', 2], ['11:47:02', 2], ['09:58:09', 1], ['10:22:11', 1], ['10:54:09', 1], ['10:58:51', 1], ['14:03:30', 1], ['14:08:19', 1], ['15:58:18', 1], ['16:04:40', 1], ['16:06:48', 1], ['17:21:17', 1], ['17:29:20', 1], ['12:18:54', 4]]\n",
      "[['14:29:22', 4], ['14:48:41', 4]]\n",
      "[['15:25:32', 1]]\n"
     ]
    }
   ],
   "source": [
    "all_times = t\n",
    "tim = []\n",
    "for key in all_times:\n",
    "    times_patients = [] \n",
    "    user_times = all_times[key]\n",
    "    if user_times:\n",
    "        times_patients = ([[i.time().strftime('%H:%M:%S'), i.isoweekday()] for i in user_times])\n",
    "        \n",
    "        print times_patients\n",
    "        tim.append(times_patients)\n"
   ]
  },
  {
   "cell_type": "code",
   "execution_count": 122,
   "metadata": {},
   "outputs": [
    {
     "name": "stdout",
     "output_type": "stream",
     "text": [
      "[['11:52:06', 2], ['10:27:01', 1], ['16:08:15', 1], ['17:26:15', 1], ['17:31:29', 1]]\n",
      "[['15:27:57', 1], ['15:30:07', 1], ['16:20:27', 1], ['16:45:26', 1], ['16:50:02', 1], ['11:41:39', 2], ['11:47:02', 2], ['09:58:09', 1], ['10:22:11', 1], ['10:54:09', 1], ['10:58:51', 1], ['14:03:30', 1], ['14:08:19', 1], ['15:58:18', 1], ['16:04:40', 1], ['16:06:48', 1], ['17:21:17', 1], ['17:29:20', 1], ['12:18:54', 4]]\n",
      "[['14:29:22', 4], ['14:48:41', 4]]\n",
      "[['15:25:32', 1]]\n"
     ]
    }
   ],
   "source": [
    "for i in tim:\n",
    "    print i"
   ]
  },
  {
   "cell_type": "code",
   "execution_count": 123,
   "metadata": {},
   "outputs": [
    {
     "data": {
      "text/plain": [
       "1"
      ]
     },
     "execution_count": 123,
     "metadata": {},
     "output_type": "execute_result"
    }
   ],
   "source": [
    "len(tim[3])"
   ]
  },
  {
   "cell_type": "code",
   "execution_count": 124,
   "metadata": {},
   "outputs": [
    {
     "data": {
      "text/plain": [
       "['11:52:06', 2]"
      ]
     },
     "execution_count": 124,
     "metadata": {},
     "output_type": "execute_result"
    }
   ],
   "source": [
    "tim[0][0]"
   ]
  },
  {
   "cell_type": "code",
   "execution_count": null,
   "metadata": {
    "collapsed": true
   },
   "outputs": [],
   "source": []
  }
 ],
 "metadata": {
  "kernelspec": {
   "display_name": "Python 2",
   "language": "python",
   "name": "python2"
  },
  "language_info": {
   "codemirror_mode": {
    "name": "ipython",
    "version": 2
   },
   "file_extension": ".py",
   "mimetype": "text/x-python",
   "name": "python",
   "nbconvert_exporter": "python",
   "pygments_lexer": "ipython2",
   "version": "2.7.13"
  }
 },
 "nbformat": 4,
 "nbformat_minor": 2
}
